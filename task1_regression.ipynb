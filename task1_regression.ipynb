{
  "nbformat": 4,
  "nbformat_minor": 0,
  "metadata": {
    "colab": {
      "name": "task1_regression.ipynb",
      "provenance": [],
      "collapsed_sections": [],
      "machine_shape": "hm",
      "background_execution": "on",
      "toc_visible": true
    },
    "kernelspec": {
      "name": "python3",
      "display_name": "Python 3"
    },
    "language_info": {
      "name": "python"
    },
    "accelerator": "TPU",
    "gpuClass": "standard"
  },
  "cells": [
    {
      "cell_type": "code",
      "execution_count": null,
      "metadata": {
        "id": "eHc5BcEQ3N5H"
      },
      "outputs": [],
      "source": [
        "# loading necessary libraries\n",
        "import pandas as pd\n",
        "import numpy as np\n",
        "import seaborn as sns\n",
        "import matplotlib.pylab as plt\n",
        "from pylab import rcParams\n",
        "rcParams['figure.figsize'] = 20, 10"
      ]
    },
    {
      "cell_type": "code",
      "source": [
        "def metric(y_true, y_pred):\n",
        "    \n",
        "    return np.sum(np.abs(y_true - y_pred)) / np.abs(np.sum(y_pred)) * 100"
      ],
      "metadata": {
        "id": "5j82DllR3RE0"
      },
      "execution_count": null,
      "outputs": []
    },
    {
      "cell_type": "markdown",
      "source": [
        "## Data exploration"
      ],
      "metadata": {
        "id": "yBC_1C3DQ8i3"
      }
    },
    {
      "cell_type": "code",
      "source": [
        "df = pd.read_csv(r'data_regression_for_task.csv')"
      ],
      "metadata": {
        "id": "E-MZIfZW3pwg"
      },
      "execution_count": null,
      "outputs": []
    },
    {
      "cell_type": "code",
      "source": [
        "df.head()"
      ],
      "metadata": {
        "colab": {
          "base_uri": "https://localhost:8080/",
          "height": 204
        },
        "id": "rHHTQzf_3b6q",
        "outputId": "ddcff36f-1ece-4200-92b5-eff682606a27"
      },
      "execution_count": null,
      "outputs": [
        {
          "output_type": "execute_result",
          "data": {
            "text/plain": [
              "   YEAR  MONTH                    CONTRAGENT ARTICLE_CODE  \\\n",
              "0  2017      4               ROYAL WINE CORP       100200   \n",
              "1  2017      4      SANTA MARGHERITA USA INC       100749   \n",
              "2  2017      4            JIM BEAM BRANDS CO        10103   \n",
              "3  2017      4  HEAVEN HILL DISTILLERIES INC        10120   \n",
              "4  2017      4               ROYAL WINE CORP       101664   \n",
              "\n",
              "                            ARTICLE_NAME ARTICLE_GROUP  SALES  STORE_SALES  \n",
              "0                      GAMLA CAB - 750ML          WINE    0.0          0.0  \n",
              "1   SANTA MARGHERITA P/GRIG ALTO - 375ML          WINE    0.0          0.0  \n",
              "2  KNOB CREEK BOURBON 9YR - 100P - 375ML        LIQUOR    0.0          0.0  \n",
              "3          J W DANT BOURBON 100P - 1.75L        LIQUOR    0.0          0.0  \n",
              "4            RAMON CORDOVA RIOJA - 750ML          WINE    0.0          0.0  "
            ],
            "text/html": [
              "\n",
              "  <div id=\"df-996230e6-7105-4785-99a3-06d5e134ba5a\">\n",
              "    <div class=\"colab-df-container\">\n",
              "      <div>\n",
              "<style scoped>\n",
              "    .dataframe tbody tr th:only-of-type {\n",
              "        vertical-align: middle;\n",
              "    }\n",
              "\n",
              "    .dataframe tbody tr th {\n",
              "        vertical-align: top;\n",
              "    }\n",
              "\n",
              "    .dataframe thead th {\n",
              "        text-align: right;\n",
              "    }\n",
              "</style>\n",
              "<table border=\"1\" class=\"dataframe\">\n",
              "  <thead>\n",
              "    <tr style=\"text-align: right;\">\n",
              "      <th></th>\n",
              "      <th>YEAR</th>\n",
              "      <th>MONTH</th>\n",
              "      <th>CONTRAGENT</th>\n",
              "      <th>ARTICLE_CODE</th>\n",
              "      <th>ARTICLE_NAME</th>\n",
              "      <th>ARTICLE_GROUP</th>\n",
              "      <th>SALES</th>\n",
              "      <th>STORE_SALES</th>\n",
              "    </tr>\n",
              "  </thead>\n",
              "  <tbody>\n",
              "    <tr>\n",
              "      <th>0</th>\n",
              "      <td>2017</td>\n",
              "      <td>4</td>\n",
              "      <td>ROYAL WINE CORP</td>\n",
              "      <td>100200</td>\n",
              "      <td>GAMLA CAB - 750ML</td>\n",
              "      <td>WINE</td>\n",
              "      <td>0.0</td>\n",
              "      <td>0.0</td>\n",
              "    </tr>\n",
              "    <tr>\n",
              "      <th>1</th>\n",
              "      <td>2017</td>\n",
              "      <td>4</td>\n",
              "      <td>SANTA MARGHERITA USA INC</td>\n",
              "      <td>100749</td>\n",
              "      <td>SANTA MARGHERITA P/GRIG ALTO - 375ML</td>\n",
              "      <td>WINE</td>\n",
              "      <td>0.0</td>\n",
              "      <td>0.0</td>\n",
              "    </tr>\n",
              "    <tr>\n",
              "      <th>2</th>\n",
              "      <td>2017</td>\n",
              "      <td>4</td>\n",
              "      <td>JIM BEAM BRANDS CO</td>\n",
              "      <td>10103</td>\n",
              "      <td>KNOB CREEK BOURBON 9YR - 100P - 375ML</td>\n",
              "      <td>LIQUOR</td>\n",
              "      <td>0.0</td>\n",
              "      <td>0.0</td>\n",
              "    </tr>\n",
              "    <tr>\n",
              "      <th>3</th>\n",
              "      <td>2017</td>\n",
              "      <td>4</td>\n",
              "      <td>HEAVEN HILL DISTILLERIES INC</td>\n",
              "      <td>10120</td>\n",
              "      <td>J W DANT BOURBON 100P - 1.75L</td>\n",
              "      <td>LIQUOR</td>\n",
              "      <td>0.0</td>\n",
              "      <td>0.0</td>\n",
              "    </tr>\n",
              "    <tr>\n",
              "      <th>4</th>\n",
              "      <td>2017</td>\n",
              "      <td>4</td>\n",
              "      <td>ROYAL WINE CORP</td>\n",
              "      <td>101664</td>\n",
              "      <td>RAMON CORDOVA RIOJA - 750ML</td>\n",
              "      <td>WINE</td>\n",
              "      <td>0.0</td>\n",
              "      <td>0.0</td>\n",
              "    </tr>\n",
              "  </tbody>\n",
              "</table>\n",
              "</div>\n",
              "      <button class=\"colab-df-convert\" onclick=\"convertToInteractive('df-996230e6-7105-4785-99a3-06d5e134ba5a')\"\n",
              "              title=\"Convert this dataframe to an interactive table.\"\n",
              "              style=\"display:none;\">\n",
              "        \n",
              "  <svg xmlns=\"http://www.w3.org/2000/svg\" height=\"24px\"viewBox=\"0 0 24 24\"\n",
              "       width=\"24px\">\n",
              "    <path d=\"M0 0h24v24H0V0z\" fill=\"none\"/>\n",
              "    <path d=\"M18.56 5.44l.94 2.06.94-2.06 2.06-.94-2.06-.94-.94-2.06-.94 2.06-2.06.94zm-11 1L8.5 8.5l.94-2.06 2.06-.94-2.06-.94L8.5 2.5l-.94 2.06-2.06.94zm10 10l.94 2.06.94-2.06 2.06-.94-2.06-.94-.94-2.06-.94 2.06-2.06.94z\"/><path d=\"M17.41 7.96l-1.37-1.37c-.4-.4-.92-.59-1.43-.59-.52 0-1.04.2-1.43.59L10.3 9.45l-7.72 7.72c-.78.78-.78 2.05 0 2.83L4 21.41c.39.39.9.59 1.41.59.51 0 1.02-.2 1.41-.59l7.78-7.78 2.81-2.81c.8-.78.8-2.07 0-2.86zM5.41 20L4 18.59l7.72-7.72 1.47 1.35L5.41 20z\"/>\n",
              "  </svg>\n",
              "      </button>\n",
              "      \n",
              "  <style>\n",
              "    .colab-df-container {\n",
              "      display:flex;\n",
              "      flex-wrap:wrap;\n",
              "      gap: 12px;\n",
              "    }\n",
              "\n",
              "    .colab-df-convert {\n",
              "      background-color: #E8F0FE;\n",
              "      border: none;\n",
              "      border-radius: 50%;\n",
              "      cursor: pointer;\n",
              "      display: none;\n",
              "      fill: #1967D2;\n",
              "      height: 32px;\n",
              "      padding: 0 0 0 0;\n",
              "      width: 32px;\n",
              "    }\n",
              "\n",
              "    .colab-df-convert:hover {\n",
              "      background-color: #E2EBFA;\n",
              "      box-shadow: 0px 1px 2px rgba(60, 64, 67, 0.3), 0px 1px 3px 1px rgba(60, 64, 67, 0.15);\n",
              "      fill: #174EA6;\n",
              "    }\n",
              "\n",
              "    [theme=dark] .colab-df-convert {\n",
              "      background-color: #3B4455;\n",
              "      fill: #D2E3FC;\n",
              "    }\n",
              "\n",
              "    [theme=dark] .colab-df-convert:hover {\n",
              "      background-color: #434B5C;\n",
              "      box-shadow: 0px 1px 3px 1px rgba(0, 0, 0, 0.15);\n",
              "      filter: drop-shadow(0px 1px 2px rgba(0, 0, 0, 0.3));\n",
              "      fill: #FFFFFF;\n",
              "    }\n",
              "  </style>\n",
              "\n",
              "      <script>\n",
              "        const buttonEl =\n",
              "          document.querySelector('#df-996230e6-7105-4785-99a3-06d5e134ba5a button.colab-df-convert');\n",
              "        buttonEl.style.display =\n",
              "          google.colab.kernel.accessAllowed ? 'block' : 'none';\n",
              "\n",
              "        async function convertToInteractive(key) {\n",
              "          const element = document.querySelector('#df-996230e6-7105-4785-99a3-06d5e134ba5a');\n",
              "          const dataTable =\n",
              "            await google.colab.kernel.invokeFunction('convertToInteractive',\n",
              "                                                     [key], {});\n",
              "          if (!dataTable) return;\n",
              "\n",
              "          const docLinkHtml = 'Like what you see? Visit the ' +\n",
              "            '<a target=\"_blank\" href=https://colab.research.google.com/notebooks/data_table.ipynb>data table notebook</a>'\n",
              "            + ' to learn more about interactive tables.';\n",
              "          element.innerHTML = '';\n",
              "          dataTable['output_type'] = 'display_data';\n",
              "          await google.colab.output.renderOutput(dataTable, element);\n",
              "          const docLink = document.createElement('div');\n",
              "          docLink.innerHTML = docLinkHtml;\n",
              "          element.appendChild(docLink);\n",
              "        }\n",
              "      </script>\n",
              "    </div>\n",
              "  </div>\n",
              "  "
            ]
          },
          "metadata": {},
          "execution_count": 55
        }
      ]
    },
    {
      "cell_type": "code",
      "source": [
        "# from the first look, there are 6 categorical columns (YEAR, MONTH, CONTRAGENT, ARTICLE_CODE, ARTICLE_NAME, ARTICLE_GROUP)\n",
        "# and 4 numerical columns (SALES, STORE_SALES)"
      ],
      "metadata": {
        "id": "JfJ3L3R38jFv"
      },
      "execution_count": null,
      "outputs": []
    },
    {
      "cell_type": "code",
      "source": [
        "# How many rows?\n",
        "df.shape"
      ],
      "metadata": {
        "colab": {
          "base_uri": "https://localhost:8080/"
        },
        "id": "kTOxigzs3dqH",
        "outputId": "75e7cf09-0cec-46d0-d3c1-358687b90987"
      },
      "execution_count": null,
      "outputs": [
        {
          "output_type": "execute_result",
          "data": {
            "text/plain": [
              "(128355, 8)"
            ]
          },
          "metadata": {},
          "execution_count": 57
        }
      ]
    },
    {
      "cell_type": "code",
      "source": [
        "# look into datatypes of features\n",
        "# indeed 4 - object (string or nan)\n",
        "# 4 - numerical (int or float)\n",
        "df.info()"
      ],
      "metadata": {
        "colab": {
          "base_uri": "https://localhost:8080/"
        },
        "id": "dJ9-zQ3Z3dwS",
        "outputId": "54c72958-666c-4d43-b596-ec158bec1cf0"
      },
      "execution_count": null,
      "outputs": [
        {
          "output_type": "stream",
          "name": "stdout",
          "text": [
            "<class 'pandas.core.frame.DataFrame'>\n",
            "RangeIndex: 128355 entries, 0 to 128354\n",
            "Data columns (total 8 columns):\n",
            " #   Column         Non-Null Count   Dtype  \n",
            "---  ------         --------------   -----  \n",
            " 0   YEAR           128355 non-null  int64  \n",
            " 1   MONTH          128355 non-null  int64  \n",
            " 2   CONTRAGENT     128331 non-null  object \n",
            " 3   ARTICLE_CODE   128355 non-null  object \n",
            " 4   ARTICLE_NAME   128355 non-null  object \n",
            " 5   ARTICLE_GROUP  128354 non-null  object \n",
            " 6   SALES          128355 non-null  float64\n",
            " 7   STORE_SALES    128355 non-null  float64\n",
            "dtypes: float64(2), int64(2), object(4)\n",
            "memory usage: 7.8+ MB\n"
          ]
        }
      ]
    },
    {
      "cell_type": "code",
      "source": [
        "# let us calculate nan values in a dataset\n",
        "df.isna().sum()"
      ],
      "metadata": {
        "colab": {
          "base_uri": "https://localhost:8080/"
        },
        "id": "fv-7JgUM31kP",
        "outputId": "f8f5357b-28a6-4410-a70c-18f88bcf55d2"
      },
      "execution_count": null,
      "outputs": [
        {
          "output_type": "execute_result",
          "data": {
            "text/plain": [
              "YEAR              0\n",
              "MONTH             0\n",
              "CONTRAGENT       24\n",
              "ARTICLE_CODE      0\n",
              "ARTICLE_NAME      0\n",
              "ARTICLE_GROUP     1\n",
              "SALES             0\n",
              "STORE_SALES       0\n",
              "dtype: int64"
            ]
          },
          "metadata": {},
          "execution_count": 59
        }
      ]
    },
    {
      "cell_type": "code",
      "source": [
        "# 25 rows is insignificant comparing to 128355,\n",
        "# so we can drop them\n",
        "df = df.dropna();\n",
        "df.isna().sum()"
      ],
      "metadata": {
        "colab": {
          "base_uri": "https://localhost:8080/"
        },
        "id": "mShbYHv49faq",
        "outputId": "dd91b47e-85c1-43b7-ca5b-f282d9875d2c"
      },
      "execution_count": null,
      "outputs": [
        {
          "output_type": "execute_result",
          "data": {
            "text/plain": [
              "YEAR             0\n",
              "MONTH            0\n",
              "CONTRAGENT       0\n",
              "ARTICLE_CODE     0\n",
              "ARTICLE_NAME     0\n",
              "ARTICLE_GROUP    0\n",
              "SALES            0\n",
              "STORE_SALES      0\n",
              "dtype: int64"
            ]
          },
          "metadata": {},
          "execution_count": 60
        }
      ]
    },
    {
      "cell_type": "code",
      "source": [
        "# as you can see, there are negative values in SALES and STORE_SALES that need to be removed\n",
        "# moreover, max values are much higher than Q75 for same features\n",
        "\n",
        "# There are only 2 years: 2017 and 2018\n",
        "df.describe()"
      ],
      "metadata": {
        "colab": {
          "base_uri": "https://localhost:8080/",
          "height": 297
        },
        "id": "_MqdXl9I33Tn",
        "outputId": "edd89bc7-e4dd-4149-ccfa-1afd0ce29d1a"
      },
      "execution_count": null,
      "outputs": [
        {
          "output_type": "execute_result",
          "data": {
            "text/plain": [
              "                YEAR          MONTH         SALES    STORE_SALES\n",
              "count  128330.000000  128330.000000  1.283300e+05  128330.000000\n",
              "mean     2017.206024       7.079225  6.564316e+03      22.681679\n",
              "std         0.404449       3.645799  2.892762e+04     239.574553\n",
              "min      2017.000000       1.000000 -6.490000e+03   -4996.000000\n",
              "25%      2017.000000       5.000000  0.000000e+00       0.000000\n",
              "50%      2017.000000       8.000000  3.300000e+02       1.000000\n",
              "75%      2017.000000      10.000000  3.250000e+03       4.000000\n",
              "max      2018.000000      12.000000  1.616600e+06   16271.750000"
            ],
            "text/html": [
              "\n",
              "  <div id=\"df-9a3c9342-484f-4801-bd9f-c2c8679759d5\">\n",
              "    <div class=\"colab-df-container\">\n",
              "      <div>\n",
              "<style scoped>\n",
              "    .dataframe tbody tr th:only-of-type {\n",
              "        vertical-align: middle;\n",
              "    }\n",
              "\n",
              "    .dataframe tbody tr th {\n",
              "        vertical-align: top;\n",
              "    }\n",
              "\n",
              "    .dataframe thead th {\n",
              "        text-align: right;\n",
              "    }\n",
              "</style>\n",
              "<table border=\"1\" class=\"dataframe\">\n",
              "  <thead>\n",
              "    <tr style=\"text-align: right;\">\n",
              "      <th></th>\n",
              "      <th>YEAR</th>\n",
              "      <th>MONTH</th>\n",
              "      <th>SALES</th>\n",
              "      <th>STORE_SALES</th>\n",
              "    </tr>\n",
              "  </thead>\n",
              "  <tbody>\n",
              "    <tr>\n",
              "      <th>count</th>\n",
              "      <td>128330.000000</td>\n",
              "      <td>128330.000000</td>\n",
              "      <td>1.283300e+05</td>\n",
              "      <td>128330.000000</td>\n",
              "    </tr>\n",
              "    <tr>\n",
              "      <th>mean</th>\n",
              "      <td>2017.206024</td>\n",
              "      <td>7.079225</td>\n",
              "      <td>6.564316e+03</td>\n",
              "      <td>22.681679</td>\n",
              "    </tr>\n",
              "    <tr>\n",
              "      <th>std</th>\n",
              "      <td>0.404449</td>\n",
              "      <td>3.645799</td>\n",
              "      <td>2.892762e+04</td>\n",
              "      <td>239.574553</td>\n",
              "    </tr>\n",
              "    <tr>\n",
              "      <th>min</th>\n",
              "      <td>2017.000000</td>\n",
              "      <td>1.000000</td>\n",
              "      <td>-6.490000e+03</td>\n",
              "      <td>-4996.000000</td>\n",
              "    </tr>\n",
              "    <tr>\n",
              "      <th>25%</th>\n",
              "      <td>2017.000000</td>\n",
              "      <td>5.000000</td>\n",
              "      <td>0.000000e+00</td>\n",
              "      <td>0.000000</td>\n",
              "    </tr>\n",
              "    <tr>\n",
              "      <th>50%</th>\n",
              "      <td>2017.000000</td>\n",
              "      <td>8.000000</td>\n",
              "      <td>3.300000e+02</td>\n",
              "      <td>1.000000</td>\n",
              "    </tr>\n",
              "    <tr>\n",
              "      <th>75%</th>\n",
              "      <td>2017.000000</td>\n",
              "      <td>10.000000</td>\n",
              "      <td>3.250000e+03</td>\n",
              "      <td>4.000000</td>\n",
              "    </tr>\n",
              "    <tr>\n",
              "      <th>max</th>\n",
              "      <td>2018.000000</td>\n",
              "      <td>12.000000</td>\n",
              "      <td>1.616600e+06</td>\n",
              "      <td>16271.750000</td>\n",
              "    </tr>\n",
              "  </tbody>\n",
              "</table>\n",
              "</div>\n",
              "      <button class=\"colab-df-convert\" onclick=\"convertToInteractive('df-9a3c9342-484f-4801-bd9f-c2c8679759d5')\"\n",
              "              title=\"Convert this dataframe to an interactive table.\"\n",
              "              style=\"display:none;\">\n",
              "        \n",
              "  <svg xmlns=\"http://www.w3.org/2000/svg\" height=\"24px\"viewBox=\"0 0 24 24\"\n",
              "       width=\"24px\">\n",
              "    <path d=\"M0 0h24v24H0V0z\" fill=\"none\"/>\n",
              "    <path d=\"M18.56 5.44l.94 2.06.94-2.06 2.06-.94-2.06-.94-.94-2.06-.94 2.06-2.06.94zm-11 1L8.5 8.5l.94-2.06 2.06-.94-2.06-.94L8.5 2.5l-.94 2.06-2.06.94zm10 10l.94 2.06.94-2.06 2.06-.94-2.06-.94-.94-2.06-.94 2.06-2.06.94z\"/><path d=\"M17.41 7.96l-1.37-1.37c-.4-.4-.92-.59-1.43-.59-.52 0-1.04.2-1.43.59L10.3 9.45l-7.72 7.72c-.78.78-.78 2.05 0 2.83L4 21.41c.39.39.9.59 1.41.59.51 0 1.02-.2 1.41-.59l7.78-7.78 2.81-2.81c.8-.78.8-2.07 0-2.86zM5.41 20L4 18.59l7.72-7.72 1.47 1.35L5.41 20z\"/>\n",
              "  </svg>\n",
              "      </button>\n",
              "      \n",
              "  <style>\n",
              "    .colab-df-container {\n",
              "      display:flex;\n",
              "      flex-wrap:wrap;\n",
              "      gap: 12px;\n",
              "    }\n",
              "\n",
              "    .colab-df-convert {\n",
              "      background-color: #E8F0FE;\n",
              "      border: none;\n",
              "      border-radius: 50%;\n",
              "      cursor: pointer;\n",
              "      display: none;\n",
              "      fill: #1967D2;\n",
              "      height: 32px;\n",
              "      padding: 0 0 0 0;\n",
              "      width: 32px;\n",
              "    }\n",
              "\n",
              "    .colab-df-convert:hover {\n",
              "      background-color: #E2EBFA;\n",
              "      box-shadow: 0px 1px 2px rgba(60, 64, 67, 0.3), 0px 1px 3px 1px rgba(60, 64, 67, 0.15);\n",
              "      fill: #174EA6;\n",
              "    }\n",
              "\n",
              "    [theme=dark] .colab-df-convert {\n",
              "      background-color: #3B4455;\n",
              "      fill: #D2E3FC;\n",
              "    }\n",
              "\n",
              "    [theme=dark] .colab-df-convert:hover {\n",
              "      background-color: #434B5C;\n",
              "      box-shadow: 0px 1px 3px 1px rgba(0, 0, 0, 0.15);\n",
              "      filter: drop-shadow(0px 1px 2px rgba(0, 0, 0, 0.3));\n",
              "      fill: #FFFFFF;\n",
              "    }\n",
              "  </style>\n",
              "\n",
              "      <script>\n",
              "        const buttonEl =\n",
              "          document.querySelector('#df-9a3c9342-484f-4801-bd9f-c2c8679759d5 button.colab-df-convert');\n",
              "        buttonEl.style.display =\n",
              "          google.colab.kernel.accessAllowed ? 'block' : 'none';\n",
              "\n",
              "        async function convertToInteractive(key) {\n",
              "          const element = document.querySelector('#df-9a3c9342-484f-4801-bd9f-c2c8679759d5');\n",
              "          const dataTable =\n",
              "            await google.colab.kernel.invokeFunction('convertToInteractive',\n",
              "                                                     [key], {});\n",
              "          if (!dataTable) return;\n",
              "\n",
              "          const docLinkHtml = 'Like what you see? Visit the ' +\n",
              "            '<a target=\"_blank\" href=https://colab.research.google.com/notebooks/data_table.ipynb>data table notebook</a>'\n",
              "            + ' to learn more about interactive tables.';\n",
              "          element.innerHTML = '';\n",
              "          dataTable['output_type'] = 'display_data';\n",
              "          await google.colab.output.renderOutput(dataTable, element);\n",
              "          const docLink = document.createElement('div');\n",
              "          docLink.innerHTML = docLinkHtml;\n",
              "          element.appendChild(docLink);\n",
              "        }\n",
              "      </script>\n",
              "    </div>\n",
              "  </div>\n",
              "  "
            ]
          },
          "metadata": {},
          "execution_count": 61
        }
      ]
    },
    {
      "cell_type": "code",
      "source": [
        "# There are 337 rows, where SALES or STORE_SALES are negative\n",
        "# we can remove them as well\n",
        "df[(df['SALES'] < 0) | (df['STORE_SALES'] < 0)].value_counts().sum()"
      ],
      "metadata": {
        "colab": {
          "base_uri": "https://localhost:8080/"
        },
        "id": "XsihYL1-CLky",
        "outputId": "faa4ed78-e027-408d-b99f-5f2c9f388589"
      },
      "execution_count": null,
      "outputs": [
        {
          "output_type": "execute_result",
          "data": {
            "text/plain": [
              "337"
            ]
          },
          "metadata": {},
          "execution_count": 62
        }
      ]
    },
    {
      "cell_type": "code",
      "source": [
        "df.drop(df[df['SALES'] < 0].index, inplace=True)\n",
        "df.drop(df[df['STORE_SALES'] < 0].index, inplace=True)"
      ],
      "metadata": {
        "id": "6pgQsJ31-9dx"
      },
      "execution_count": null,
      "outputs": []
    },
    {
      "cell_type": "code",
      "source": [
        "# now the mean is fixed\n",
        "df.describe()"
      ],
      "metadata": {
        "colab": {
          "base_uri": "https://localhost:8080/",
          "height": 297
        },
        "id": "bql500r4-_X6",
        "outputId": "33598bd5-c113-43de-dcc8-5d125c1162fc"
      },
      "execution_count": null,
      "outputs": [
        {
          "output_type": "execute_result",
          "data": {
            "text/plain": [
              "                YEAR          MONTH         SALES    STORE_SALES\n",
              "count  127993.000000  127993.000000  1.279930e+05  127993.000000\n",
              "mean     2017.205972       7.078426  6.578369e+03      23.097518\n",
              "std         0.404412       3.645356  2.896192e+04     237.233897\n",
              "min      2017.000000       1.000000  0.000000e+00       0.000000\n",
              "25%      2017.000000       5.000000  0.000000e+00       0.000000\n",
              "50%      2017.000000       8.000000  3.300000e+02       1.000000\n",
              "75%      2017.000000      10.000000  3.260000e+03       4.000000\n",
              "max      2018.000000      12.000000  1.616600e+06   16271.750000"
            ],
            "text/html": [
              "\n",
              "  <div id=\"df-2659b0f9-f09e-42a2-95e8-bf20fd35444f\">\n",
              "    <div class=\"colab-df-container\">\n",
              "      <div>\n",
              "<style scoped>\n",
              "    .dataframe tbody tr th:only-of-type {\n",
              "        vertical-align: middle;\n",
              "    }\n",
              "\n",
              "    .dataframe tbody tr th {\n",
              "        vertical-align: top;\n",
              "    }\n",
              "\n",
              "    .dataframe thead th {\n",
              "        text-align: right;\n",
              "    }\n",
              "</style>\n",
              "<table border=\"1\" class=\"dataframe\">\n",
              "  <thead>\n",
              "    <tr style=\"text-align: right;\">\n",
              "      <th></th>\n",
              "      <th>YEAR</th>\n",
              "      <th>MONTH</th>\n",
              "      <th>SALES</th>\n",
              "      <th>STORE_SALES</th>\n",
              "    </tr>\n",
              "  </thead>\n",
              "  <tbody>\n",
              "    <tr>\n",
              "      <th>count</th>\n",
              "      <td>127993.000000</td>\n",
              "      <td>127993.000000</td>\n",
              "      <td>1.279930e+05</td>\n",
              "      <td>127993.000000</td>\n",
              "    </tr>\n",
              "    <tr>\n",
              "      <th>mean</th>\n",
              "      <td>2017.205972</td>\n",
              "      <td>7.078426</td>\n",
              "      <td>6.578369e+03</td>\n",
              "      <td>23.097518</td>\n",
              "    </tr>\n",
              "    <tr>\n",
              "      <th>std</th>\n",
              "      <td>0.404412</td>\n",
              "      <td>3.645356</td>\n",
              "      <td>2.896192e+04</td>\n",
              "      <td>237.233897</td>\n",
              "    </tr>\n",
              "    <tr>\n",
              "      <th>min</th>\n",
              "      <td>2017.000000</td>\n",
              "      <td>1.000000</td>\n",
              "      <td>0.000000e+00</td>\n",
              "      <td>0.000000</td>\n",
              "    </tr>\n",
              "    <tr>\n",
              "      <th>25%</th>\n",
              "      <td>2017.000000</td>\n",
              "      <td>5.000000</td>\n",
              "      <td>0.000000e+00</td>\n",
              "      <td>0.000000</td>\n",
              "    </tr>\n",
              "    <tr>\n",
              "      <th>50%</th>\n",
              "      <td>2017.000000</td>\n",
              "      <td>8.000000</td>\n",
              "      <td>3.300000e+02</td>\n",
              "      <td>1.000000</td>\n",
              "    </tr>\n",
              "    <tr>\n",
              "      <th>75%</th>\n",
              "      <td>2017.000000</td>\n",
              "      <td>10.000000</td>\n",
              "      <td>3.260000e+03</td>\n",
              "      <td>4.000000</td>\n",
              "    </tr>\n",
              "    <tr>\n",
              "      <th>max</th>\n",
              "      <td>2018.000000</td>\n",
              "      <td>12.000000</td>\n",
              "      <td>1.616600e+06</td>\n",
              "      <td>16271.750000</td>\n",
              "    </tr>\n",
              "  </tbody>\n",
              "</table>\n",
              "</div>\n",
              "      <button class=\"colab-df-convert\" onclick=\"convertToInteractive('df-2659b0f9-f09e-42a2-95e8-bf20fd35444f')\"\n",
              "              title=\"Convert this dataframe to an interactive table.\"\n",
              "              style=\"display:none;\">\n",
              "        \n",
              "  <svg xmlns=\"http://www.w3.org/2000/svg\" height=\"24px\"viewBox=\"0 0 24 24\"\n",
              "       width=\"24px\">\n",
              "    <path d=\"M0 0h24v24H0V0z\" fill=\"none\"/>\n",
              "    <path d=\"M18.56 5.44l.94 2.06.94-2.06 2.06-.94-2.06-.94-.94-2.06-.94 2.06-2.06.94zm-11 1L8.5 8.5l.94-2.06 2.06-.94-2.06-.94L8.5 2.5l-.94 2.06-2.06.94zm10 10l.94 2.06.94-2.06 2.06-.94-2.06-.94-.94-2.06-.94 2.06-2.06.94z\"/><path d=\"M17.41 7.96l-1.37-1.37c-.4-.4-.92-.59-1.43-.59-.52 0-1.04.2-1.43.59L10.3 9.45l-7.72 7.72c-.78.78-.78 2.05 0 2.83L4 21.41c.39.39.9.59 1.41.59.51 0 1.02-.2 1.41-.59l7.78-7.78 2.81-2.81c.8-.78.8-2.07 0-2.86zM5.41 20L4 18.59l7.72-7.72 1.47 1.35L5.41 20z\"/>\n",
              "  </svg>\n",
              "      </button>\n",
              "      \n",
              "  <style>\n",
              "    .colab-df-container {\n",
              "      display:flex;\n",
              "      flex-wrap:wrap;\n",
              "      gap: 12px;\n",
              "    }\n",
              "\n",
              "    .colab-df-convert {\n",
              "      background-color: #E8F0FE;\n",
              "      border: none;\n",
              "      border-radius: 50%;\n",
              "      cursor: pointer;\n",
              "      display: none;\n",
              "      fill: #1967D2;\n",
              "      height: 32px;\n",
              "      padding: 0 0 0 0;\n",
              "      width: 32px;\n",
              "    }\n",
              "\n",
              "    .colab-df-convert:hover {\n",
              "      background-color: #E2EBFA;\n",
              "      box-shadow: 0px 1px 2px rgba(60, 64, 67, 0.3), 0px 1px 3px 1px rgba(60, 64, 67, 0.15);\n",
              "      fill: #174EA6;\n",
              "    }\n",
              "\n",
              "    [theme=dark] .colab-df-convert {\n",
              "      background-color: #3B4455;\n",
              "      fill: #D2E3FC;\n",
              "    }\n",
              "\n",
              "    [theme=dark] .colab-df-convert:hover {\n",
              "      background-color: #434B5C;\n",
              "      box-shadow: 0px 1px 3px 1px rgba(0, 0, 0, 0.15);\n",
              "      filter: drop-shadow(0px 1px 2px rgba(0, 0, 0, 0.3));\n",
              "      fill: #FFFFFF;\n",
              "    }\n",
              "  </style>\n",
              "\n",
              "      <script>\n",
              "        const buttonEl =\n",
              "          document.querySelector('#df-2659b0f9-f09e-42a2-95e8-bf20fd35444f button.colab-df-convert');\n",
              "        buttonEl.style.display =\n",
              "          google.colab.kernel.accessAllowed ? 'block' : 'none';\n",
              "\n",
              "        async function convertToInteractive(key) {\n",
              "          const element = document.querySelector('#df-2659b0f9-f09e-42a2-95e8-bf20fd35444f');\n",
              "          const dataTable =\n",
              "            await google.colab.kernel.invokeFunction('convertToInteractive',\n",
              "                                                     [key], {});\n",
              "          if (!dataTable) return;\n",
              "\n",
              "          const docLinkHtml = 'Like what you see? Visit the ' +\n",
              "            '<a target=\"_blank\" href=https://colab.research.google.com/notebooks/data_table.ipynb>data table notebook</a>'\n",
              "            + ' to learn more about interactive tables.';\n",
              "          element.innerHTML = '';\n",
              "          dataTable['output_type'] = 'display_data';\n",
              "          await google.colab.output.renderOutput(dataTable, element);\n",
              "          const docLink = document.createElement('div');\n",
              "          docLink.innerHTML = docLinkHtml;\n",
              "          element.appendChild(docLink);\n",
              "        }\n",
              "      </script>\n",
              "    </div>\n",
              "  </div>\n",
              "  "
            ]
          },
          "metadata": {},
          "execution_count": 64
        }
      ]
    },
    {
      "cell_type": "code",
      "source": [
        "# Let us look into SALES distibution\n",
        "sns.boxplot(x = 'SALES', data = df)\n",
        "# The distibution is quite bad"
      ],
      "metadata": {
        "colab": {
          "base_uri": "https://localhost:8080/",
          "height": 623
        },
        "id": "fyf1hJm2DfzW",
        "outputId": "434aca9e-9e37-46ec-e6ed-5374d71763ef"
      },
      "execution_count": null,
      "outputs": [
        {
          "output_type": "execute_result",
          "data": {
            "text/plain": [
              "<matplotlib.axes._subplots.AxesSubplot at 0x7f3d6bee3f90>"
            ]
          },
          "metadata": {},
          "execution_count": 65
        },
        {
          "output_type": "display_data",
          "data": {
            "text/plain": [
              "<Figure size 1440x720 with 1 Axes>"
            ],
            "image/png": "[encoded data removed]"
          },
          "metadata": {
            "needs_background": "light"
          }
        }
      ]
    },
    {
      "cell_type": "code",
      "source": [
        "# from this I can assume that 2 points (or even 1) from the SALES (>1.2*1e6) can be outliers\n",
        "# thus, I would remove them from the dataset\n",
        "df = df.drop(df[df['SALES'] >= 1.2*1e6].index)"
      ],
      "metadata": {
        "id": "ABuUP_an4dbP"
      },
      "execution_count": null,
      "outputs": []
    },
    {
      "cell_type": "code",
      "source": [
        "# Let us look into total SALES for each month\n",
        "df.groupby('MONTH', as_index=False).agg({'SALES': 'sum'})"
      ],
      "metadata": {
        "colab": {
          "base_uri": "https://localhost:8080/",
          "height": 359
        },
        "id": "NNPFAVQ15Jsx",
        "outputId": "ed0c812a-c1d0-4c3c-b16d-7c481fc4514a"
      },
      "execution_count": null,
      "outputs": [
        {
          "output_type": "execute_result",
          "data": {
            "text/plain": [
              "   MONTH        SALES\n",
              "0      1   75783950.0\n",
              "1      2   77646180.0\n",
              "2      4          0.0\n",
              "3      5   94665740.0\n",
              "4      6   96105960.0\n",
              "5      8   87105460.0\n",
              "6      9   90442820.0\n",
              "7     10   89167800.0\n",
              "8     11   98307000.0\n",
              "9     12  129894710.0"
            ],
            "text/html": [
              "\n",
              "  <div id=\"df-37fb0c08-3e1e-4e1b-bff6-f24ec7139fbd\">\n",
              "    <div class=\"colab-df-container\">\n",
              "      <div>\n",
              "<style scoped>\n",
              "    .dataframe tbody tr th:only-of-type {\n",
              "        vertical-align: middle;\n",
              "    }\n",
              "\n",
              "    .dataframe tbody tr th {\n",
              "        vertical-align: top;\n",
              "    }\n",
              "\n",
              "    .dataframe thead th {\n",
              "        text-align: right;\n",
              "    }\n",
              "</style>\n",
              "<table border=\"1\" class=\"dataframe\">\n",
              "  <thead>\n",
              "    <tr style=\"text-align: right;\">\n",
              "      <th></th>\n",
              "      <th>MONTH</th>\n",
              "      <th>SALES</th>\n",
              "    </tr>\n",
              "  </thead>\n",
              "  <tbody>\n",
              "    <tr>\n",
              "      <th>0</th>\n",
              "      <td>1</td>\n",
              "      <td>75783950.0</td>\n",
              "    </tr>\n",
              "    <tr>\n",
              "      <th>1</th>\n",
              "      <td>2</td>\n",
              "      <td>77646180.0</td>\n",
              "    </tr>\n",
              "    <tr>\n",
              "      <th>2</th>\n",
              "      <td>4</td>\n",
              "      <td>0.0</td>\n",
              "    </tr>\n",
              "    <tr>\n",
              "      <th>3</th>\n",
              "      <td>5</td>\n",
              "      <td>94665740.0</td>\n",
              "    </tr>\n",
              "    <tr>\n",
              "      <th>4</th>\n",
              "      <td>6</td>\n",
              "      <td>96105960.0</td>\n",
              "    </tr>\n",
              "    <tr>\n",
              "      <th>5</th>\n",
              "      <td>8</td>\n",
              "      <td>87105460.0</td>\n",
              "    </tr>\n",
              "    <tr>\n",
              "      <th>6</th>\n",
              "      <td>9</td>\n",
              "      <td>90442820.0</td>\n",
              "    </tr>\n",
              "    <tr>\n",
              "      <th>7</th>\n",
              "      <td>10</td>\n",
              "      <td>89167800.0</td>\n",
              "    </tr>\n",
              "    <tr>\n",
              "      <th>8</th>\n",
              "      <td>11</td>\n",
              "      <td>98307000.0</td>\n",
              "    </tr>\n",
              "    <tr>\n",
              "      <th>9</th>\n",
              "      <td>12</td>\n",
              "      <td>129894710.0</td>\n",
              "    </tr>\n",
              "  </tbody>\n",
              "</table>\n",
              "</div>\n",
              "      <button class=\"colab-df-convert\" onclick=\"convertToInteractive('df-37fb0c08-3e1e-4e1b-bff6-f24ec7139fbd')\"\n",
              "              title=\"Convert this dataframe to an interactive table.\"\n",
              "              style=\"display:none;\">\n",
              "        \n",
              "  <svg xmlns=\"http://www.w3.org/2000/svg\" height=\"24px\"viewBox=\"0 0 24 24\"\n",
              "       width=\"24px\">\n",
              "    <path d=\"M0 0h24v24H0V0z\" fill=\"none\"/>\n",
              "    <path d=\"M18.56 5.44l.94 2.06.94-2.06 2.06-.94-2.06-.94-.94-2.06-.94 2.06-2.06.94zm-11 1L8.5 8.5l.94-2.06 2.06-.94-2.06-.94L8.5 2.5l-.94 2.06-2.06.94zm10 10l.94 2.06.94-2.06 2.06-.94-2.06-.94-.94-2.06-.94 2.06-2.06.94z\"/><path d=\"M17.41 7.96l-1.37-1.37c-.4-.4-.92-.59-1.43-.59-.52 0-1.04.2-1.43.59L10.3 9.45l-7.72 7.72c-.78.78-.78 2.05 0 2.83L4 21.41c.39.39.9.59 1.41.59.51 0 1.02-.2 1.41-.59l7.78-7.78 2.81-2.81c.8-.78.8-2.07 0-2.86zM5.41 20L4 18.59l7.72-7.72 1.47 1.35L5.41 20z\"/>\n",
              "  </svg>\n",
              "      </button>\n",
              "      \n",
              "  <style>\n",
              "    .colab-df-container {\n",
              "      display:flex;\n",
              "      flex-wrap:wrap;\n",
              "      gap: 12px;\n",
              "    }\n",
              "\n",
              "    .colab-df-convert {\n",
              "      background-color: #E8F0FE;\n",
              "      border: none;\n",
              "      border-radius: 50%;\n",
              "      cursor: pointer;\n",
              "      display: none;\n",
              "      fill: #1967D2;\n",
              "      height: 32px;\n",
              "      padding: 0 0 0 0;\n",
              "      width: 32px;\n",
              "    }\n",
              "\n",
              "    .colab-df-convert:hover {\n",
              "      background-color: #E2EBFA;\n",
              "      box-shadow: 0px 1px 2px rgba(60, 64, 67, 0.3), 0px 1px 3px 1px rgba(60, 64, 67, 0.15);\n",
              "      fill: #174EA6;\n",
              "    }\n",
              "\n",
              "    [theme=dark] .colab-df-convert {\n",
              "      background-color: #3B4455;\n",
              "      fill: #D2E3FC;\n",
              "    }\n",
              "\n",
              "    [theme=dark] .colab-df-convert:hover {\n",
              "      background-color: #434B5C;\n",
              "      box-shadow: 0px 1px 3px 1px rgba(0, 0, 0, 0.15);\n",
              "      filter: drop-shadow(0px 1px 2px rgba(0, 0, 0, 0.3));\n",
              "      fill: #FFFFFF;\n",
              "    }\n",
              "  </style>\n",
              "\n",
              "      <script>\n",
              "        const buttonEl =\n",
              "          document.querySelector('#df-37fb0c08-3e1e-4e1b-bff6-f24ec7139fbd button.colab-df-convert');\n",
              "        buttonEl.style.display =\n",
              "          google.colab.kernel.accessAllowed ? 'block' : 'none';\n",
              "\n",
              "        async function convertToInteractive(key) {\n",
              "          const element = document.querySelector('#df-37fb0c08-3e1e-4e1b-bff6-f24ec7139fbd');\n",
              "          const dataTable =\n",
              "            await google.colab.kernel.invokeFunction('convertToInteractive',\n",
              "                                                     [key], {});\n",
              "          if (!dataTable) return;\n",
              "\n",
              "          const docLinkHtml = 'Like what you see? Visit the ' +\n",
              "            '<a target=\"_blank\" href=https://colab.research.google.com/notebooks/data_table.ipynb>data table notebook</a>'\n",
              "            + ' to learn more about interactive tables.';\n",
              "          element.innerHTML = '';\n",
              "          dataTable['output_type'] = 'display_data';\n",
              "          await google.colab.output.renderOutput(dataTable, element);\n",
              "          const docLink = document.createElement('div');\n",
              "          docLink.innerHTML = docLinkHtml;\n",
              "          element.appendChild(docLink);\n",
              "        }\n",
              "      </script>\n",
              "    </div>\n",
              "  </div>\n",
              "  "
            ]
          },
          "metadata": {},
          "execution_count": 67
        }
      ]
    },
    {
      "cell_type": "code",
      "source": [
        "# No sales in April + We confirmed that we would not predict for april. Thus, data can be removed (maybe store was closed)\n",
        "df[df['MONTH']==4]['YEAR'].value_counts() "
      ],
      "metadata": {
        "colab": {
          "base_uri": "https://localhost:8080/"
        },
        "id": "aXva3bKm5R2a",
        "outputId": "1f91dec0-4e87-4143-e264-9cdcf89c0f88"
      },
      "execution_count": null,
      "outputs": [
        {
          "output_type": "execute_result",
          "data": {
            "text/plain": [
              "2017    5195\n",
              "Name: YEAR, dtype: int64"
            ]
          },
          "metadata": {},
          "execution_count": 68
        }
      ]
    },
    {
      "cell_type": "code",
      "source": [
        "df = df.drop(df[df['MONTH'] == 4].index)"
      ],
      "metadata": {
        "id": "ecrcF9jG586-"
      },
      "execution_count": null,
      "outputs": []
    },
    {
      "cell_type": "code",
      "source": [
        "# function that would add month number up to 2 digits (1 -> 01)\n",
        "def transformer(x):\n",
        "  x = str(x)\n",
        "  if len(x) !=2:\n",
        "    x = \"0\" + x\n",
        "  return x"
      ],
      "metadata": {
        "id": "uJqCHuFZBEEH"
      },
      "execution_count": null,
      "outputs": []
    },
    {
      "cell_type": "code",
      "source": [
        "# I want to look into sales graph for each product type\n",
        "df['YEAR_MONTH']= df['YEAR'].apply(str) + df['MONTH'].apply(transformer)"
      ],
      "metadata": {
        "id": "pAbnEPd-ArSi"
      },
      "execution_count": null,
      "outputs": []
    },
    {
      "cell_type": "code",
      "source": [
        "# look into every article that we have\n",
        "df['ARTICLE_GROUP'].unique()"
      ],
      "metadata": {
        "colab": {
          "base_uri": "https://localhost:8080/"
        },
        "id": "l8-pP5mA6ptP",
        "outputId": "7ea08af0-4319-40b1-e63e-784a9de66cf6"
      },
      "execution_count": null,
      "outputs": [
        {
          "output_type": "execute_result",
          "data": {
            "text/plain": [
              "array(['WINE', 'REF', 'BEER', 'KEGS', 'LIQUOR', 'STR_SUPPLIES',\n",
              "       'NON-ALCOHOL'], dtype=object)"
            ]
          },
          "metadata": {},
          "execution_count": 72
        }
      ]
    },
    {
      "cell_type": "code",
      "source": [
        "sales = df.groupby(['YEAR_MONTH', 'ARTICLE_GROUP'], as_index=False).agg({'SALES': 'sum'}).sort_values('YEAR_MONTH')"
      ],
      "metadata": {
        "id": "__xPDXOCCh2T"
      },
      "execution_count": null,
      "outputs": []
    },
    {
      "cell_type": "code",
      "source": [
        "for i, column in enumerate(df['ARTICLE_GROUP'].unique(), start=1):\n",
        "    plt.subplot(3, 3, i)\n",
        "    sale = sales[sales['ARTICLE_GROUP']==column].sort_values('YEAR_MONTH')\n",
        "    plt.plot(sale['YEAR_MONTH'], sale['SALES'])\n",
        "    plt.xlabel(column)"
      ],
      "metadata": {
        "colab": {
          "base_uri": "https://localhost:8080/",
          "height": 616
        },
        "id": "VDG0AWr9DI-D",
        "outputId": "461fdbda-b527-4a1b-bb2a-bdb962ae022b"
      },
      "execution_count": null,
      "outputs": [
        {
          "output_type": "display_data",
          "data": {
            "text/plain": [
              "<Figure size 1440x720 with 7 Axes>"
            ],
            "image/png": "[encoded data removed]"
          },
          "metadata": {
            "needs_background": "light"
          }
        }
      ]
    },
    {
      "cell_type": "code",
      "source": [
        "# As you can see from the graphs - no sales for KEGS at all (perhaps, we can remove this data as well)\n",
        "df = df.drop(df[df['ARTICLE_GROUP'] == 'KEGS'].index)\n",
        "\n",
        "# Actually, I wanted to compare trends of year+month pairs for each year, but 2017 and 2018 do not overlap in months (but they provide order)"
      ],
      "metadata": {
        "id": "55RLOukS76xY"
      },
      "execution_count": null,
      "outputs": []
    },
    {
      "cell_type": "code",
      "source": [
        "# Let us look into STORE_SALES\n",
        "sns.boxplot(x = 'STORE_SALES', data = df)\n",
        "# almost same 'not good' distribution\n",
        "# We can remove 2 points, which seem to be separated from the rest of th group\n",
        "df = df.drop(df[df['STORE_SALES'] >= 12000].index)"
      ],
      "metadata": {
        "colab": {
          "base_uri": "https://localhost:8080/",
          "height": 606
        },
        "id": "rGriZW3gCagg",
        "outputId": "a71c961d-b449-4ab2-8a64-9c9ed20d9427"
      },
      "execution_count": null,
      "outputs": [
        {
          "output_type": "display_data",
          "data": {
            "text/plain": [
              "<Figure size 1440x720 with 1 Axes>"
            ],
            "image/png": "[encoded data removed]"
          },
          "metadata": {
            "needs_background": "light"
          }
        }
      ]
    },
    {
      "cell_type": "code",
      "source": [
        "df.describe()"
      ],
      "metadata": {
        "colab": {
          "base_uri": "https://localhost:8080/",
          "height": 297
        },
        "id": "oUk3iUNwCD9a",
        "outputId": "52262d47-6aca-4272-d703-b2f8cc13350a"
      },
      "execution_count": null,
      "outputs": [
        {
          "output_type": "execute_result",
          "data": {
            "text/plain": [
              "                YEAR          MONTH         SALES    STORE_SALES\n",
              "count  119197.000000  119197.000000  1.191970e+05  119197.000000\n",
              "mean     2017.214158       7.201977  7.005215e+03      23.564710\n",
              "std         0.410239       3.663696  2.879963e+04     217.622059\n",
              "min      2017.000000       1.000000  0.000000e+00       0.000000\n",
              "25%      2017.000000       5.000000  0.000000e+00       0.000000\n",
              "50%      2017.000000       8.000000  4.800000e+02       1.000000\n",
              "75%      2017.000000      10.000000  3.890000e+03       4.000000\n",
              "max      2018.000000      12.000000  1.170000e+06   11995.000000"
            ],
            "text/html": [
              "\n",
              "  <div id=\"df-19ec5ef9-6f38-447d-843f-c6c59e1f7c70\">\n",
              "    <div class=\"colab-df-container\">\n",
              "      <div>\n",
              "<style scoped>\n",
              "    .dataframe tbody tr th:only-of-type {\n",
              "        vertical-align: middle;\n",
              "    }\n",
              "\n",
              "    .dataframe tbody tr th {\n",
              "        vertical-align: top;\n",
              "    }\n",
              "\n",
              "    .dataframe thead th {\n",
              "        text-align: right;\n",
              "    }\n",
              "</style>\n",
              "<table border=\"1\" class=\"dataframe\">\n",
              "  <thead>\n",
              "    <tr style=\"text-align: right;\">\n",
              "      <th></th>\n",
              "      <th>YEAR</th>\n",
              "      <th>MONTH</th>\n",
              "      <th>SALES</th>\n",
              "      <th>STORE_SALES</th>\n",
              "    </tr>\n",
              "  </thead>\n",
              "  <tbody>\n",
              "    <tr>\n",
              "      <th>count</th>\n",
              "      <td>119197.000000</td>\n",
              "      <td>119197.000000</td>\n",
              "      <td>1.191970e+05</td>\n",
              "      <td>119197.000000</td>\n",
              "    </tr>\n",
              "    <tr>\n",
              "      <th>mean</th>\n",
              "      <td>2017.214158</td>\n",
              "      <td>7.201977</td>\n",
              "      <td>7.005215e+03</td>\n",
              "      <td>23.564710</td>\n",
              "    </tr>\n",
              "    <tr>\n",
              "      <th>std</th>\n",
              "      <td>0.410239</td>\n",
              "      <td>3.663696</td>\n",
              "      <td>2.879963e+04</td>\n",
              "      <td>217.622059</td>\n",
              "    </tr>\n",
              "    <tr>\n",
              "      <th>min</th>\n",
              "      <td>2017.000000</td>\n",
              "      <td>1.000000</td>\n",
              "      <td>0.000000e+00</td>\n",
              "      <td>0.000000</td>\n",
              "    </tr>\n",
              "    <tr>\n",
              "      <th>25%</th>\n",
              "      <td>2017.000000</td>\n",
              "      <td>5.000000</td>\n",
              "      <td>0.000000e+00</td>\n",
              "      <td>0.000000</td>\n",
              "    </tr>\n",
              "    <tr>\n",
              "      <th>50%</th>\n",
              "      <td>2017.000000</td>\n",
              "      <td>8.000000</td>\n",
              "      <td>4.800000e+02</td>\n",
              "      <td>1.000000</td>\n",
              "    </tr>\n",
              "    <tr>\n",
              "      <th>75%</th>\n",
              "      <td>2017.000000</td>\n",
              "      <td>10.000000</td>\n",
              "      <td>3.890000e+03</td>\n",
              "      <td>4.000000</td>\n",
              "    </tr>\n",
              "    <tr>\n",
              "      <th>max</th>\n",
              "      <td>2018.000000</td>\n",
              "      <td>12.000000</td>\n",
              "      <td>1.170000e+06</td>\n",
              "      <td>11995.000000</td>\n",
              "    </tr>\n",
              "  </tbody>\n",
              "</table>\n",
              "</div>\n",
              "      <button class=\"colab-df-convert\" onclick=\"convertToInteractive('df-19ec5ef9-6f38-447d-843f-c6c59e1f7c70')\"\n",
              "              title=\"Convert this dataframe to an interactive table.\"\n",
              "              style=\"display:none;\">\n",
              "        \n",
              "  <svg xmlns=\"http://www.w3.org/2000/svg\" height=\"24px\"viewBox=\"0 0 24 24\"\n",
              "       width=\"24px\">\n",
              "    <path d=\"M0 0h24v24H0V0z\" fill=\"none\"/>\n",
              "    <path d=\"M18.56 5.44l.94 2.06.94-2.06 2.06-.94-2.06-.94-.94-2.06-.94 2.06-2.06.94zm-11 1L8.5 8.5l.94-2.06 2.06-.94-2.06-.94L8.5 2.5l-.94 2.06-2.06.94zm10 10l.94 2.06.94-2.06 2.06-.94-2.06-.94-.94-2.06-.94 2.06-2.06.94z\"/><path d=\"M17.41 7.96l-1.37-1.37c-.4-.4-.92-.59-1.43-.59-.52 0-1.04.2-1.43.59L10.3 9.45l-7.72 7.72c-.78.78-.78 2.05 0 2.83L4 21.41c.39.39.9.59 1.41.59.51 0 1.02-.2 1.41-.59l7.78-7.78 2.81-2.81c.8-.78.8-2.07 0-2.86zM5.41 20L4 18.59l7.72-7.72 1.47 1.35L5.41 20z\"/>\n",
              "  </svg>\n",
              "      </button>\n",
              "      \n",
              "  <style>\n",
              "    .colab-df-container {\n",
              "      display:flex;\n",
              "      flex-wrap:wrap;\n",
              "      gap: 12px;\n",
              "    }\n",
              "\n",
              "    .colab-df-convert {\n",
              "      background-color: #E8F0FE;\n",
              "      border: none;\n",
              "      border-radius: 50%;\n",
              "      cursor: pointer;\n",
              "      display: none;\n",
              "      fill: #1967D2;\n",
              "      height: 32px;\n",
              "      padding: 0 0 0 0;\n",
              "      width: 32px;\n",
              "    }\n",
              "\n",
              "    .colab-df-convert:hover {\n",
              "      background-color: #E2EBFA;\n",
              "      box-shadow: 0px 1px 2px rgba(60, 64, 67, 0.3), 0px 1px 3px 1px rgba(60, 64, 67, 0.15);\n",
              "      fill: #174EA6;\n",
              "    }\n",
              "\n",
              "    [theme=dark] .colab-df-convert {\n",
              "      background-color: #3B4455;\n",
              "      fill: #D2E3FC;\n",
              "    }\n",
              "\n",
              "    [theme=dark] .colab-df-convert:hover {\n",
              "      background-color: #434B5C;\n",
              "      box-shadow: 0px 1px 3px 1px rgba(0, 0, 0, 0.15);\n",
              "      filter: drop-shadow(0px 1px 2px rgba(0, 0, 0, 0.3));\n",
              "      fill: #FFFFFF;\n",
              "    }\n",
              "  </style>\n",
              "\n",
              "      <script>\n",
              "        const buttonEl =\n",
              "          document.querySelector('#df-19ec5ef9-6f38-447d-843f-c6c59e1f7c70 button.colab-df-convert');\n",
              "        buttonEl.style.display =\n",
              "          google.colab.kernel.accessAllowed ? 'block' : 'none';\n",
              "\n",
              "        async function convertToInteractive(key) {\n",
              "          const element = document.querySelector('#df-19ec5ef9-6f38-447d-843f-c6c59e1f7c70');\n",
              "          const dataTable =\n",
              "            await google.colab.kernel.invokeFunction('convertToInteractive',\n",
              "                                                     [key], {});\n",
              "          if (!dataTable) return;\n",
              "\n",
              "          const docLinkHtml = 'Like what you see? Visit the ' +\n",
              "            '<a target=\"_blank\" href=https://colab.research.google.com/notebooks/data_table.ipynb>data table notebook</a>'\n",
              "            + ' to learn more about interactive tables.';\n",
              "          element.innerHTML = '';\n",
              "          dataTable['output_type'] = 'display_data';\n",
              "          await google.colab.output.renderOutput(dataTable, element);\n",
              "          const docLink = document.createElement('div');\n",
              "          docLink.innerHTML = docLinkHtml;\n",
              "          element.appendChild(docLink);\n",
              "        }\n",
              "      </script>\n",
              "    </div>\n",
              "  </div>\n",
              "  "
            ]
          },
          "metadata": {},
          "execution_count": 77
        }
      ]
    },
    {
      "cell_type": "code",
      "source": [
        "# we can look at the same graphs for store_sales, yet as I suppose, store_Sales gives information only about \n",
        "# one store, not the whole tendency\n",
        "# because, for example in the store, no REF or STR_SUPPLIERS were sold\n",
        "sales = df.groupby(['YEAR_MONTH', 'ARTICLE_GROUP'], as_index=False).agg({'STORE_SALES': 'sum'}).sort_values('YEAR_MONTH')\n",
        "for i, column in enumerate(df['ARTICLE_GROUP'].unique(), start=1):\n",
        "    plt.subplot(3, 3, i)\n",
        "    sale = sales[sales['ARTICLE_GROUP']==column].sort_values('YEAR_MONTH')\n",
        "    plt.plot(sale['YEAR_MONTH'], sale['STORE_SALES'])\n",
        "    plt.xlabel(column)"
      ],
      "metadata": {
        "colab": {
          "base_uri": "https://localhost:8080/",
          "height": 417
        },
        "id": "j1VrV1CS9z3_",
        "outputId": "ae4be543-7065-478f-ce2c-a7031d3956c2"
      },
      "execution_count": null,
      "outputs": [
        {
          "output_type": "display_data",
          "data": {
            "text/plain": [
              "<Figure size 1440x720 with 6 Axes>"
            ],
            "image/png": "[encoded data removed]"
          },
          "metadata": {
            "needs_background": "light"
          }
        }
      ]
    },
    {
      "cell_type": "code",
      "source": [
        "# My main question about this dataset:\n",
        "# Does the store_sales mean the total sales for a particular article?\n",
        "\n",
        "# 1) In this case, it is intuitive that SALES has to be greater than STORE_SALES since\n",
        "# SALES is a combination of sales of multiple stores. In this case, we would have to remove around\n",
        "# 42 thousand of entries from consideration. \n",
        "\n",
        "# 2) Another scenario: we consider that STORE_SALES is the total for ALL products sold,\n",
        "# then it is intuitive that SALES < STORE_SALES should hold.\n",
        "\n",
        "# I want to consider case 1 and case, when we leave dataset as it is\n",
        "print(\"SALES > STORE_SALES:\", df[(df['SALES'] > df['STORE_SALES'])].value_counts().sum())\n",
        "print(\"SALES < STORE_SALES:\", df[(df['SALES'] < df['STORE_SALES'])].value_counts().sum())"
      ],
      "metadata": {
        "colab": {
          "base_uri": "https://localhost:8080/"
        },
        "id": "gX19Ky02DNbN",
        "outputId": "4b9cedaa-84fd-46c2-bf0f-1fee89e71fda"
      },
      "execution_count": null,
      "outputs": [
        {
          "output_type": "stream",
          "name": "stdout",
          "text": [
            "SALES > STORE_SALES: 79022\n",
            "SALES < STORE_SALES: 38482\n"
          ]
        }
      ]
    },
    {
      "cell_type": "markdown",
      "source": [
        "## Feature selection"
      ],
      "metadata": {
        "id": "1iNnFwbCRJ_w"
      }
    },
    {
      "cell_type": "code",
      "source": [
        "# confusion matrix of some features :)\n",
        "\n",
        "# MONTH and YEAR look highly correlated, but again, they are categorical, so we will test with chi2.\n",
        "corr = df.corr()\n",
        "f,ax = plt.subplots(figsize=(12, 8))\n",
        "sns.heatmap(corr, annot = True, linewidths=1.5 , fmt = '.2f',ax=ax)\n",
        "plt.show()\n",
        "\n",
        "# STORE_SALES and SALES look correlated (good!)\n",
        "# Due to range of STORE_SALES & SALES correlation with MONTH and YEAR is 0\n",
        "# Yet both MONTH and YEAR are categorical - need to apply another test."
      ],
      "metadata": {
        "colab": {
          "base_uri": "https://localhost:8080/",
          "height": 488
        },
        "id": "e12msjRr4BIX",
        "outputId": "97f19d22-97d8-4e8f-8efb-7b913efa8c9d"
      },
      "execution_count": null,
      "outputs": [
        {
          "output_type": "display_data",
          "data": {
            "text/plain": [
              "<Figure size 864x576 with 2 Axes>"
            ],
            "image/png": "[encoded data removed]"
          },
          "metadata": {
            "needs_background": "light"
          }
        }
      ]
    },
    {
      "cell_type": "code",
      "source": [
        "import scipy.stats as ss\n",
        "# actually, no correlation btw year and month, which was misinterpreted by confusion matrix\n",
        "# H0 - features are not correlated\n",
        "ss.chi2_contingency(pd.crosstab(df['YEAR'], df['MONTH']))[1]"
      ],
      "metadata": {
        "colab": {
          "base_uri": "https://localhost:8080/"
        },
        "id": "ZLg5QorLcA6-",
        "outputId": "6057de11-0b5b-486b-e143-3d474404e396"
      },
      "execution_count": null,
      "outputs": [
        {
          "output_type": "execute_result",
          "data": {
            "text/plain": [
              "0.0"
            ]
          },
          "metadata": {},
          "execution_count": 81
        }
      ]
    },
    {
      "cell_type": "code",
      "source": [
        "# correlation for categorical + numerical values\n",
        "# is better calculated with eta value (image below)\n",
        "\n",
        "def correlation_ratio(categories, measurements):\n",
        "    # getting number of values and creating a grid\n",
        "    fcat, _ = pd.factorize(categories)\n",
        "    cat_num = np.max(fcat)+1\n",
        "    y_avg_array = np.zeros(cat_num)\n",
        "    n_array = np.zeros(cat_num)\n",
        "\n",
        "    for i in range(0,cat_num):\n",
        "        cat_measures = measurements.iloc[np.argwhere(fcat == i).flatten()]\n",
        "        n_array[i] = len(cat_measures)\n",
        "        y_avg_array[i] = np.average(cat_measures)\n",
        "    # calculating y avg, numerator and denominator\n",
        "    y_total_avg = np.sum(np.multiply(y_avg_array,n_array))/np.sum(n_array)\n",
        "    numerator = np.sum(np.multiply(n_array,np.power(np.subtract(y_avg_array,y_total_avg),2)))\n",
        "    denominator = np.sum(np.power(np.subtract(measurements,y_total_avg),2))\n",
        "    if numerator == 0:\n",
        "        eta = 0.0\n",
        "    else:\n",
        "        # getting a squre root\n",
        "        eta = np.sqrt(numerator/denominator)\n",
        "    return eta"
      ],
      "metadata": {
        "id": "PXy95jZk_dqW"
      },
      "execution_count": null,
      "outputs": []
    },
    {
      "cell_type": "markdown",
      "source": [
        "![Screenshot 2022-08-10 at 12.18.49.png](data:image/png;base64,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)"
      ],
      "metadata": {
        "id": "0h4U02Ot_ncT"
      }
    },
    {
      "cell_type": "code",
      "source": [
        "print('YEAR vs. SALES:',correlation_ratio(df['YEAR'], df['SALES'].apply(lambda x: np.log(x+1))))\n",
        "print('MONTH vs. SALES:',correlation_ratio(df['MONTH'], df['SALES'].apply(lambda x: np.log(x+1))))\n",
        "print('YEAR_MONTH vs. SALES:',correlation_ratio(df['YEAR_MONTH'], df['SALES'].apply(lambda x: np.log(x+1))))\n",
        "# Mostly only month is important for sales values (which is quite logical)"
      ],
      "metadata": {
        "colab": {
          "base_uri": "https://localhost:8080/"
        },
        "id": "xfsFZOv0_65A",
        "outputId": "c317d334-afc2-463c-efc0-06fcbc1d7417"
      },
      "execution_count": null,
      "outputs": [
        {
          "output_type": "stream",
          "name": "stdout",
          "text": [
            "YEAR vs. SALES: 0.0062506427180244375\n",
            "MONTH vs. SALES: 0.045907473559706015\n",
            "YEAR_MONTH vs. SALES: 0.045907473559706015\n"
          ]
        }
      ]
    },
    {
      "cell_type": "code",
      "source": [
        "# plus YEAR can be questioned, as 2017 has a lot more entries (whole year) vs 2018\n",
        "plt.figure(figsize=(5,5))\n",
        "sns.countplot(df['YEAR'])\n",
        "# Yet year feature could help the model to differenciate the ordering of months (as I said earlier)"
      ],
      "metadata": {
        "colab": {
          "base_uri": "https://localhost:8080/",
          "height": 405
        },
        "id": "8xZSF9Myd4VW",
        "outputId": "50344a99-caa4-4150-99c8-5ea560de0960"
      },
      "execution_count": null,
      "outputs": [
        {
          "output_type": "stream",
          "name": "stderr",
          "text": [
            "/usr/local/lib/python3.7/dist-packages/seaborn/_decorators.py:43: FutureWarning: Pass the following variable as a keyword arg: x. From version 0.12, the only valid positional argument will be `data`, and passing other arguments without an explicit keyword will result in an error or misinterpretation.\n",
            "  FutureWarning\n"
          ]
        },
        {
          "output_type": "execute_result",
          "data": {
            "text/plain": [
              "<matplotlib.axes._subplots.AxesSubplot at 0x7f3d6bab1090>"
            ]
          },
          "metadata": {},
          "execution_count": 84
        },
        {
          "output_type": "display_data",
          "data": {
            "text/plain": [
              "<Figure size 360x360 with 1 Axes>"
            ],
            "image/png": "[encoded data removed]"
          },
          "metadata": {
            "needs_background": "light"
          }
        }
      ]
    },
    {
      "cell_type": "code",
      "source": [
        "# mostly, wine is sold, followed by liquor (can one hot encode them)\n",
        "df['ARTICLE_GROUP'].value_counts()"
      ],
      "metadata": {
        "colab": {
          "base_uri": "https://localhost:8080/"
        },
        "id": "8kXpaprmGbIA",
        "outputId": "a011ee06-2d5f-4fdd-f5ef-367e228a748e"
      },
      "execution_count": null,
      "outputs": [
        {
          "output_type": "execute_result",
          "data": {
            "text/plain": [
              "WINE            76089\n",
              "LIQUOR          26634\n",
              "BEER            15768\n",
              "NON-ALCOHOL       576\n",
              "STR_SUPPLIES       96\n",
              "REF                34\n",
              "Name: ARTICLE_GROUP, dtype: int64"
            ]
          },
          "metadata": {},
          "execution_count": 85
        }
      ]
    },
    {
      "cell_type": "code",
      "source": [
        "# there are 329 suppliers as well for each product (we can one-hot encode still)\n",
        "df['CONTRAGENT'].nunique()"
      ],
      "metadata": {
        "colab": {
          "base_uri": "https://localhost:8080/"
        },
        "id": "9zv-ZmBVFKvg",
        "outputId": "9a3d3c0d-8b0f-4a41-c849-18c6b2080380"
      },
      "execution_count": null,
      "outputs": [
        {
          "output_type": "execute_result",
          "data": {
            "text/plain": [
              "329"
            ]
          },
          "metadata": {},
          "execution_count": 86
        }
      ]
    },
    {
      "cell_type": "code",
      "source": [
        "# 2 most questionable columns are the ARTICLE_CODE and ARTICLE_NAME\n",
        "# they both reflect same information, so we could have kept only one of them\n",
        "# Yet, there are more than 15 thousand articles for wine itself, so no use from articles (impossible for me to encode)\n",
        "df.groupby('ARTICLE_GROUP', as_index=False).agg({'ARTICLE_CODE': pd.Series.nunique})\\\n",
        "  .rename(columns={'ARTICLE_CODE': 'UNIQUE_ARTICLES'}).sort_values('UNIQUE_ARTICLES', ascending=False)"
      ],
      "metadata": {
        "colab": {
          "base_uri": "https://localhost:8080/",
          "height": 235
        },
        "id": "MYYX1dJx5Dfe",
        "outputId": "a8c22e71-32c9-4a9e-ac27-ddb19c6829be"
      },
      "execution_count": null,
      "outputs": [
        {
          "output_type": "execute_result",
          "data": {
            "text/plain": [
              "  ARTICLE_GROUP  UNIQUE_ARTICLES\n",
              "5          WINE            15281\n",
              "1        LIQUOR             3563\n",
              "0          BEER             3216\n",
              "2   NON-ALCOHOL               87\n",
              "4  STR_SUPPLIES               15\n",
              "3           REF                6"
            ],
            "text/html": [
              "\n",
              "  <div id=\"df-2ec03798-c0d9-4cb2-9b04-b0b1bfa9bf73\">\n",
              "    <div class=\"colab-df-container\">\n",
              "      <div>\n",
              "<style scoped>\n",
              "    .dataframe tbody tr th:only-of-type {\n",
              "        vertical-align: middle;\n",
              "    }\n",
              "\n",
              "    .dataframe tbody tr th {\n",
              "        vertical-align: top;\n",
              "    }\n",
              "\n",
              "    .dataframe thead th {\n",
              "        text-align: right;\n",
              "    }\n",
              "</style>\n",
              "<table border=\"1\" class=\"dataframe\">\n",
              "  <thead>\n",
              "    <tr style=\"text-align: right;\">\n",
              "      <th></th>\n",
              "      <th>ARTICLE_GROUP</th>\n",
              "      <th>UNIQUE_ARTICLES</th>\n",
              "    </tr>\n",
              "  </thead>\n",
              "  <tbody>\n",
              "    <tr>\n",
              "      <th>5</th>\n",
              "      <td>WINE</td>\n",
              "      <td>15281</td>\n",
              "    </tr>\n",
              "    <tr>\n",
              "      <th>1</th>\n",
              "      <td>LIQUOR</td>\n",
              "      <td>3563</td>\n",
              "    </tr>\n",
              "    <tr>\n",
              "      <th>0</th>\n",
              "      <td>BEER</td>\n",
              "      <td>3216</td>\n",
              "    </tr>\n",
              "    <tr>\n",
              "      <th>2</th>\n",
              "      <td>NON-ALCOHOL</td>\n",
              "      <td>87</td>\n",
              "    </tr>\n",
              "    <tr>\n",
              "      <th>4</th>\n",
              "      <td>STR_SUPPLIES</td>\n",
              "      <td>15</td>\n",
              "    </tr>\n",
              "    <tr>\n",
              "      <th>3</th>\n",
              "      <td>REF</td>\n",
              "      <td>6</td>\n",
              "    </tr>\n",
              "  </tbody>\n",
              "</table>\n",
              "</div>\n",
              "      <button class=\"colab-df-convert\" onclick=\"convertToInteractive('df-2ec03798-c0d9-4cb2-9b04-b0b1bfa9bf73')\"\n",
              "              title=\"Convert this dataframe to an interactive table.\"\n",
              "              style=\"display:none;\">\n",
              "        \n",
              "  <svg xmlns=\"http://www.w3.org/2000/svg\" height=\"24px\"viewBox=\"0 0 24 24\"\n",
              "       width=\"24px\">\n",
              "    <path d=\"M0 0h24v24H0V0z\" fill=\"none\"/>\n",
              "    <path d=\"M18.56 5.44l.94 2.06.94-2.06 2.06-.94-2.06-.94-.94-2.06-.94 2.06-2.06.94zm-11 1L8.5 8.5l.94-2.06 2.06-.94-2.06-.94L8.5 2.5l-.94 2.06-2.06.94zm10 10l.94 2.06.94-2.06 2.06-.94-2.06-.94-.94-2.06-.94 2.06-2.06.94z\"/><path d=\"M17.41 7.96l-1.37-1.37c-.4-.4-.92-.59-1.43-.59-.52 0-1.04.2-1.43.59L10.3 9.45l-7.72 7.72c-.78.78-.78 2.05 0 2.83L4 21.41c.39.39.9.59 1.41.59.51 0 1.02-.2 1.41-.59l7.78-7.78 2.81-2.81c.8-.78.8-2.07 0-2.86zM5.41 20L4 18.59l7.72-7.72 1.47 1.35L5.41 20z\"/>\n",
              "  </svg>\n",
              "      </button>\n",
              "      \n",
              "  <style>\n",
              "    .colab-df-container {\n",
              "      display:flex;\n",
              "      flex-wrap:wrap;\n",
              "      gap: 12px;\n",
              "    }\n",
              "\n",
              "    .colab-df-convert {\n",
              "      background-color: #E8F0FE;\n",
              "      border: none;\n",
              "      border-radius: 50%;\n",
              "      cursor: pointer;\n",
              "      display: none;\n",
              "      fill: #1967D2;\n",
              "      height: 32px;\n",
              "      padding: 0 0 0 0;\n",
              "      width: 32px;\n",
              "    }\n",
              "\n",
              "    .colab-df-convert:hover {\n",
              "      background-color: #E2EBFA;\n",
              "      box-shadow: 0px 1px 2px rgba(60, 64, 67, 0.3), 0px 1px 3px 1px rgba(60, 64, 67, 0.15);\n",
              "      fill: #174EA6;\n",
              "    }\n",
              "\n",
              "    [theme=dark] .colab-df-convert {\n",
              "      background-color: #3B4455;\n",
              "      fill: #D2E3FC;\n",
              "    }\n",
              "\n",
              "    [theme=dark] .colab-df-convert:hover {\n",
              "      background-color: #434B5C;\n",
              "      box-shadow: 0px 1px 3px 1px rgba(0, 0, 0, 0.15);\n",
              "      filter: drop-shadow(0px 1px 2px rgba(0, 0, 0, 0.3));\n",
              "      fill: #FFFFFF;\n",
              "    }\n",
              "  </style>\n",
              "\n",
              "      <script>\n",
              "        const buttonEl =\n",
              "          document.querySelector('#df-2ec03798-c0d9-4cb2-9b04-b0b1bfa9bf73 button.colab-df-convert');\n",
              "        buttonEl.style.display =\n",
              "          google.colab.kernel.accessAllowed ? 'block' : 'none';\n",
              "\n",
              "        async function convertToInteractive(key) {\n",
              "          const element = document.querySelector('#df-2ec03798-c0d9-4cb2-9b04-b0b1bfa9bf73');\n",
              "          const dataTable =\n",
              "            await google.colab.kernel.invokeFunction('convertToInteractive',\n",
              "                                                     [key], {});\n",
              "          if (!dataTable) return;\n",
              "\n",
              "          const docLinkHtml = 'Like what you see? Visit the ' +\n",
              "            '<a target=\"_blank\" href=https://colab.research.google.com/notebooks/data_table.ipynb>data table notebook</a>'\n",
              "            + ' to learn more about interactive tables.';\n",
              "          element.innerHTML = '';\n",
              "          dataTable['output_type'] = 'display_data';\n",
              "          await google.colab.output.renderOutput(dataTable, element);\n",
              "          const docLink = document.createElement('div');\n",
              "          docLink.innerHTML = docLinkHtml;\n",
              "          element.appendChild(docLink);\n",
              "        }\n",
              "      </script>\n",
              "    </div>\n",
              "  </div>\n",
              "  "
            ]
          },
          "metadata": {},
          "execution_count": 87
        }
      ]
    },
    {
      "cell_type": "code",
      "source": [
        "# I wanted to see, maybe there can be defined a pair CONTRAGENT + ATRICLE_CODE, but still there are \n",
        "# 1748 articles for A VINTNERS SELECTIONS\n",
        "df.groupby(['CONTRAGENT', 'ARTICLE_GROUP'], as_index=False).agg({'ARTICLE_CODE': pd.Series.nunique})\\\n",
        "  .rename(columns={'ARTICLE_CODE': 'UNIQUE_ARTICLES'}).sort_values('UNIQUE_ARTICLES', ascending=False)"
      ],
      "metadata": {
        "colab": {
          "base_uri": "https://localhost:8080/",
          "height": 419
        },
        "id": "UcDlbXhzZ5L9",
        "outputId": "ed6fb718-80ce-42db-b317-06762f8eb5a9"
      },
      "execution_count": null,
      "outputs": [
        {
          "output_type": "execute_result",
          "data": {
            "text/plain": [
              "                            CONTRAGENT ARTICLE_GROUP  UNIQUE_ARTICLES\n",
              "7                A VINTNERS SELECTIONS          WINE             1748\n",
              "321  REPUBLIC NATIONAL DISTRIBUTING CO          WINE             1571\n",
              "231                        LEGENDS LTD          BEER             1027\n",
              "261          MONSIEUR TOUTON SELECTION          WINE             1015\n",
              "39               BACCHUS IMPORTERS LTD          WINE              688\n",
              "..                                 ...           ...              ...\n",
              "1                      A HARDY USA LTD        LIQUOR                1\n",
              "233                        LEGENDS LTD   NON-ALCOHOL                1\n",
              "377             SUTTER HOME WINERY INC        LIQUOR                1\n",
              "375    SUGARLOAF MOUNTAIN VINEYARD LLC          WINE                1\n",
              "446                         ZURENA LLC   NON-ALCOHOL                1\n",
              "\n",
              "[447 rows x 3 columns]"
            ],
            "text/html": [
              "\n",
              "  <div id=\"df-61c33583-b7ca-4ea9-9a18-9444ef69076b\">\n",
              "    <div class=\"colab-df-container\">\n",
              "      <div>\n",
              "<style scoped>\n",
              "    .dataframe tbody tr th:only-of-type {\n",
              "        vertical-align: middle;\n",
              "    }\n",
              "\n",
              "    .dataframe tbody tr th {\n",
              "        vertical-align: top;\n",
              "    }\n",
              "\n",
              "    .dataframe thead th {\n",
              "        text-align: right;\n",
              "    }\n",
              "</style>\n",
              "<table border=\"1\" class=\"dataframe\">\n",
              "  <thead>\n",
              "    <tr style=\"text-align: right;\">\n",
              "      <th></th>\n",
              "      <th>CONTRAGENT</th>\n",
              "      <th>ARTICLE_GROUP</th>\n",
              "      <th>UNIQUE_ARTICLES</th>\n",
              "    </tr>\n",
              "  </thead>\n",
              "  <tbody>\n",
              "    <tr>\n",
              "      <th>7</th>\n",
              "      <td>A VINTNERS SELECTIONS</td>\n",
              "      <td>WINE</td>\n",
              "      <td>1748</td>\n",
              "    </tr>\n",
              "    <tr>\n",
              "      <th>321</th>\n",
              "      <td>REPUBLIC NATIONAL DISTRIBUTING CO</td>\n",
              "      <td>WINE</td>\n",
              "      <td>1571</td>\n",
              "    </tr>\n",
              "    <tr>\n",
              "      <th>231</th>\n",
              "      <td>LEGENDS LTD</td>\n",
              "      <td>BEER</td>\n",
              "      <td>1027</td>\n",
              "    </tr>\n",
              "    <tr>\n",
              "      <th>261</th>\n",
              "      <td>MONSIEUR TOUTON SELECTION</td>\n",
              "      <td>WINE</td>\n",
              "      <td>1015</td>\n",
              "    </tr>\n",
              "    <tr>\n",
              "      <th>39</th>\n",
              "      <td>BACCHUS IMPORTERS LTD</td>\n",
              "      <td>WINE</td>\n",
              "      <td>688</td>\n",
              "    </tr>\n",
              "    <tr>\n",
              "      <th>...</th>\n",
              "      <td>...</td>\n",
              "      <td>...</td>\n",
              "      <td>...</td>\n",
              "    </tr>\n",
              "    <tr>\n",
              "      <th>1</th>\n",
              "      <td>A HARDY USA LTD</td>\n",
              "      <td>LIQUOR</td>\n",
              "      <td>1</td>\n",
              "    </tr>\n",
              "    <tr>\n",
              "      <th>233</th>\n",
              "      <td>LEGENDS LTD</td>\n",
              "      <td>NON-ALCOHOL</td>\n",
              "      <td>1</td>\n",
              "    </tr>\n",
              "    <tr>\n",
              "      <th>377</th>\n",
              "      <td>SUTTER HOME WINERY INC</td>\n",
              "      <td>LIQUOR</td>\n",
              "      <td>1</td>\n",
              "    </tr>\n",
              "    <tr>\n",
              "      <th>375</th>\n",
              "      <td>SUGARLOAF MOUNTAIN VINEYARD LLC</td>\n",
              "      <td>WINE</td>\n",
              "      <td>1</td>\n",
              "    </tr>\n",
              "    <tr>\n",
              "      <th>446</th>\n",
              "      <td>ZURENA LLC</td>\n",
              "      <td>NON-ALCOHOL</td>\n",
              "      <td>1</td>\n",
              "    </tr>\n",
              "  </tbody>\n",
              "</table>\n",
              "<p>447 rows × 3 columns</p>\n",
              "</div>\n",
              "      <button class=\"colab-df-convert\" onclick=\"convertToInteractive('df-61c33583-b7ca-4ea9-9a18-9444ef69076b')\"\n",
              "              title=\"Convert this dataframe to an interactive table.\"\n",
              "              style=\"display:none;\">\n",
              "        \n",
              "  <svg xmlns=\"http://www.w3.org/2000/svg\" height=\"24px\"viewBox=\"0 0 24 24\"\n",
              "       width=\"24px\">\n",
              "    <path d=\"M0 0h24v24H0V0z\" fill=\"none\"/>\n",
              "    <path d=\"M18.56 5.44l.94 2.06.94-2.06 2.06-.94-2.06-.94-.94-2.06-.94 2.06-2.06.94zm-11 1L8.5 8.5l.94-2.06 2.06-.94-2.06-.94L8.5 2.5l-.94 2.06-2.06.94zm10 10l.94 2.06.94-2.06 2.06-.94-2.06-.94-.94-2.06-.94 2.06-2.06.94z\"/><path d=\"M17.41 7.96l-1.37-1.37c-.4-.4-.92-.59-1.43-.59-.52 0-1.04.2-1.43.59L10.3 9.45l-7.72 7.72c-.78.78-.78 2.05 0 2.83L4 21.41c.39.39.9.59 1.41.59.51 0 1.02-.2 1.41-.59l7.78-7.78 2.81-2.81c.8-.78.8-2.07 0-2.86zM5.41 20L4 18.59l7.72-7.72 1.47 1.35L5.41 20z\"/>\n",
              "  </svg>\n",
              "      </button>\n",
              "      \n",
              "  <style>\n",
              "    .colab-df-container {\n",
              "      display:flex;\n",
              "      flex-wrap:wrap;\n",
              "      gap: 12px;\n",
              "    }\n",
              "\n",
              "    .colab-df-convert {\n",
              "      background-color: #E8F0FE;\n",
              "      border: none;\n",
              "      border-radius: 50%;\n",
              "      cursor: pointer;\n",
              "      display: none;\n",
              "      fill: #1967D2;\n",
              "      height: 32px;\n",
              "      padding: 0 0 0 0;\n",
              "      width: 32px;\n",
              "    }\n",
              "\n",
              "    .colab-df-convert:hover {\n",
              "      background-color: #E2EBFA;\n",
              "      box-shadow: 0px 1px 2px rgba(60, 64, 67, 0.3), 0px 1px 3px 1px rgba(60, 64, 67, 0.15);\n",
              "      fill: #174EA6;\n",
              "    }\n",
              "\n",
              "    [theme=dark] .colab-df-convert {\n",
              "      background-color: #3B4455;\n",
              "      fill: #D2E3FC;\n",
              "    }\n",
              "\n",
              "    [theme=dark] .colab-df-convert:hover {\n",
              "      background-color: #434B5C;\n",
              "      box-shadow: 0px 1px 3px 1px rgba(0, 0, 0, 0.15);\n",
              "      filter: drop-shadow(0px 1px 2px rgba(0, 0, 0, 0.3));\n",
              "      fill: #FFFFFF;\n",
              "    }\n",
              "  </style>\n",
              "\n",
              "      <script>\n",
              "        const buttonEl =\n",
              "          document.querySelector('#df-61c33583-b7ca-4ea9-9a18-9444ef69076b button.colab-df-convert');\n",
              "        buttonEl.style.display =\n",
              "          google.colab.kernel.accessAllowed ? 'block' : 'none';\n",
              "\n",
              "        async function convertToInteractive(key) {\n",
              "          const element = document.querySelector('#df-61c33583-b7ca-4ea9-9a18-9444ef69076b');\n",
              "          const dataTable =\n",
              "            await google.colab.kernel.invokeFunction('convertToInteractive',\n",
              "                                                     [key], {});\n",
              "          if (!dataTable) return;\n",
              "\n",
              "          const docLinkHtml = 'Like what you see? Visit the ' +\n",
              "            '<a target=\"_blank\" href=https://colab.research.google.com/notebooks/data_table.ipynb>data table notebook</a>'\n",
              "            + ' to learn more about interactive tables.';\n",
              "          element.innerHTML = '';\n",
              "          dataTable['output_type'] = 'display_data';\n",
              "          await google.colab.output.renderOutput(dataTable, element);\n",
              "          const docLink = document.createElement('div');\n",
              "          docLink.innerHTML = docLinkHtml;\n",
              "          element.appendChild(docLink);\n",
              "        }\n",
              "      </script>\n",
              "    </div>\n",
              "  </div>\n",
              "  "
            ]
          },
          "metadata": {},
          "execution_count": 88
        }
      ]
    },
    {
      "cell_type": "code",
      "source": [
        "# For the ARTICLE_NAME I wanted to use word frequency approach, where there is a pool of words\n",
        "# and each row has identifier of occurences.\n",
        "# But in case of alcohol names there is no trend and all of them a quite differnt (even language),\n",
        "# this approach works with small sentences or at most song names (espesially, pop songs)"
      ],
      "metadata": {
        "id": "cVnW6qR1KBcC"
      },
      "execution_count": null,
      "outputs": []
    },
    {
      "cell_type": "code",
      "source": [
        "# Anyway, I wanted to see how many type of products each CONTRAGENT produces and saw that a lot of them\n",
        "# have multiple products\n",
        "\n",
        "# I suppose these 2 features (CONTRAGENT + ARTICLE_GROUP) would be a good identifier still. \n",
        "# For example, it is pretty common that if a brand's wine is popular, most of its articles are same \n",
        "# (but this is my assumption)\n",
        "df.groupby(['CONTRAGENT'], as_index=False).agg({'ARTICLE_GROUP': pd.Series.nunique})\\\n",
        "  .rename(columns={'ARTICLE_GROUP': 'UNIQUE_GROUPS'}).sort_values('UNIQUE_GROUPS', ascending=False)"
      ],
      "metadata": {
        "colab": {
          "base_uri": "https://localhost:8080/",
          "height": 419
        },
        "id": "VGy_slM8bFnA",
        "outputId": "9cd90836-5975-4c72-9120-79298e04e73b"
      },
      "execution_count": null,
      "outputs": [
        {
          "output_type": "execute_result",
          "data": {
            "text/plain": [
              "                            CONTRAGENT  UNIQUE_GROUPS\n",
              "26               BACCHUS IMPORTERS LTD              4\n",
              "225            RELIABLE CHURCHILL LLLP              4\n",
              "3                A VINTNERS SELECTIONS              4\n",
              "227  REPUBLIC NATIONAL DISTRIBUTING CO              4\n",
              "78            DIAGEO NORTH AMERICA INC              4\n",
              "..                                 ...            ...\n",
              "130  GRAND ENCLOS DU CHATEAU DE CERONS              1\n",
              "132                GRAPES OF SPAIN INC              1\n",
              "133           GROTH VINEYARDS & WINERY              1\n",
              "134                           HAMCO DC              1\n",
              "328                         ZURENA LLC              1\n",
              "\n",
              "[329 rows x 2 columns]"
            ],
            "text/html": [
              "\n",
              "  <div id=\"df-6edaa007-9df5-49ad-8117-b85fd198495b\">\n",
              "    <div class=\"colab-df-container\">\n",
              "      <div>\n",
              "<style scoped>\n",
              "    .dataframe tbody tr th:only-of-type {\n",
              "        vertical-align: middle;\n",
              "    }\n",
              "\n",
              "    .dataframe tbody tr th {\n",
              "        vertical-align: top;\n",
              "    }\n",
              "\n",
              "    .dataframe thead th {\n",
              "        text-align: right;\n",
              "    }\n",
              "</style>\n",
              "<table border=\"1\" class=\"dataframe\">\n",
              "  <thead>\n",
              "    <tr style=\"text-align: right;\">\n",
              "      <th></th>\n",
              "      <th>CONTRAGENT</th>\n",
              "      <th>UNIQUE_GROUPS</th>\n",
              "    </tr>\n",
              "  </thead>\n",
              "  <tbody>\n",
              "    <tr>\n",
              "      <th>26</th>\n",
              "      <td>BACCHUS IMPORTERS LTD</td>\n",
              "      <td>4</td>\n",
              "    </tr>\n",
              "    <tr>\n",
              "      <th>225</th>\n",
              "      <td>RELIABLE CHURCHILL LLLP</td>\n",
              "      <td>4</td>\n",
              "    </tr>\n",
              "    <tr>\n",
              "      <th>3</th>\n",
              "      <td>A VINTNERS SELECTIONS</td>\n",
              "      <td>4</td>\n",
              "    </tr>\n",
              "    <tr>\n",
              "      <th>227</th>\n",
              "      <td>REPUBLIC NATIONAL DISTRIBUTING CO</td>\n",
              "      <td>4</td>\n",
              "    </tr>\n",
              "    <tr>\n",
              "      <th>78</th>\n",
              "      <td>DIAGEO NORTH AMERICA INC</td>\n",
              "      <td>4</td>\n",
              "    </tr>\n",
              "    <tr>\n",
              "      <th>...</th>\n",
              "      <td>...</td>\n",
              "      <td>...</td>\n",
              "    </tr>\n",
              "    <tr>\n",
              "      <th>130</th>\n",
              "      <td>GRAND ENCLOS DU CHATEAU DE CERONS</td>\n",
              "      <td>1</td>\n",
              "    </tr>\n",
              "    <tr>\n",
              "      <th>132</th>\n",
              "      <td>GRAPES OF SPAIN INC</td>\n",
              "      <td>1</td>\n",
              "    </tr>\n",
              "    <tr>\n",
              "      <th>133</th>\n",
              "      <td>GROTH VINEYARDS &amp; WINERY</td>\n",
              "      <td>1</td>\n",
              "    </tr>\n",
              "    <tr>\n",
              "      <th>134</th>\n",
              "      <td>HAMCO DC</td>\n",
              "      <td>1</td>\n",
              "    </tr>\n",
              "    <tr>\n",
              "      <th>328</th>\n",
              "      <td>ZURENA LLC</td>\n",
              "      <td>1</td>\n",
              "    </tr>\n",
              "  </tbody>\n",
              "</table>\n",
              "<p>329 rows × 2 columns</p>\n",
              "</div>\n",
              "      <button class=\"colab-df-convert\" onclick=\"convertToInteractive('df-6edaa007-9df5-49ad-8117-b85fd198495b')\"\n",
              "              title=\"Convert this dataframe to an interactive table.\"\n",
              "              style=\"display:none;\">\n",
              "        \n",
              "  <svg xmlns=\"http://www.w3.org/2000/svg\" height=\"24px\"viewBox=\"0 0 24 24\"\n",
              "       width=\"24px\">\n",
              "    <path d=\"M0 0h24v24H0V0z\" fill=\"none\"/>\n",
              "    <path d=\"M18.56 5.44l.94 2.06.94-2.06 2.06-.94-2.06-.94-.94-2.06-.94 2.06-2.06.94zm-11 1L8.5 8.5l.94-2.06 2.06-.94-2.06-.94L8.5 2.5l-.94 2.06-2.06.94zm10 10l.94 2.06.94-2.06 2.06-.94-2.06-.94-.94-2.06-.94 2.06-2.06.94z\"/><path d=\"M17.41 7.96l-1.37-1.37c-.4-.4-.92-.59-1.43-.59-.52 0-1.04.2-1.43.59L10.3 9.45l-7.72 7.72c-.78.78-.78 2.05 0 2.83L4 21.41c.39.39.9.59 1.41.59.51 0 1.02-.2 1.41-.59l7.78-7.78 2.81-2.81c.8-.78.8-2.07 0-2.86zM5.41 20L4 18.59l7.72-7.72 1.47 1.35L5.41 20z\"/>\n",
              "  </svg>\n",
              "      </button>\n",
              "      \n",
              "  <style>\n",
              "    .colab-df-container {\n",
              "      display:flex;\n",
              "      flex-wrap:wrap;\n",
              "      gap: 12px;\n",
              "    }\n",
              "\n",
              "    .colab-df-convert {\n",
              "      background-color: #E8F0FE;\n",
              "      border: none;\n",
              "      border-radius: 50%;\n",
              "      cursor: pointer;\n",
              "      display: none;\n",
              "      fill: #1967D2;\n",
              "      height: 32px;\n",
              "      padding: 0 0 0 0;\n",
              "      width: 32px;\n",
              "    }\n",
              "\n",
              "    .colab-df-convert:hover {\n",
              "      background-color: #E2EBFA;\n",
              "      box-shadow: 0px 1px 2px rgba(60, 64, 67, 0.3), 0px 1px 3px 1px rgba(60, 64, 67, 0.15);\n",
              "      fill: #174EA6;\n",
              "    }\n",
              "\n",
              "    [theme=dark] .colab-df-convert {\n",
              "      background-color: #3B4455;\n",
              "      fill: #D2E3FC;\n",
              "    }\n",
              "\n",
              "    [theme=dark] .colab-df-convert:hover {\n",
              "      background-color: #434B5C;\n",
              "      box-shadow: 0px 1px 3px 1px rgba(0, 0, 0, 0.15);\n",
              "      filter: drop-shadow(0px 1px 2px rgba(0, 0, 0, 0.3));\n",
              "      fill: #FFFFFF;\n",
              "    }\n",
              "  </style>\n",
              "\n",
              "      <script>\n",
              "        const buttonEl =\n",
              "          document.querySelector('#df-6edaa007-9df5-49ad-8117-b85fd198495b button.colab-df-convert');\n",
              "        buttonEl.style.display =\n",
              "          google.colab.kernel.accessAllowed ? 'block' : 'none';\n",
              "\n",
              "        async function convertToInteractive(key) {\n",
              "          const element = document.querySelector('#df-6edaa007-9df5-49ad-8117-b85fd198495b');\n",
              "          const dataTable =\n",
              "            await google.colab.kernel.invokeFunction('convertToInteractive',\n",
              "                                                     [key], {});\n",
              "          if (!dataTable) return;\n",
              "\n",
              "          const docLinkHtml = 'Like what you see? Visit the ' +\n",
              "            '<a target=\"_blank\" href=https://colab.research.google.com/notebooks/data_table.ipynb>data table notebook</a>'\n",
              "            + ' to learn more about interactive tables.';\n",
              "          element.innerHTML = '';\n",
              "          dataTable['output_type'] = 'display_data';\n",
              "          await google.colab.output.renderOutput(dataTable, element);\n",
              "          const docLink = document.createElement('div');\n",
              "          docLink.innerHTML = docLinkHtml;\n",
              "          element.appendChild(docLink);\n",
              "        }\n",
              "      </script>\n",
              "    </div>\n",
              "  </div>\n",
              "  "
            ]
          },
          "metadata": {},
          "execution_count": 90
        }
      ]
    },
    {
      "cell_type": "code",
      "source": [
        "# removing ARTICLE_NAME and ARTICLE_CODE from consideration\n",
        "df = df.drop(columns=['ARTICLE_NAME', 'ARTICLE_CODE'])"
      ],
      "metadata": {
        "id": "th21TVZHLLjv"
      },
      "execution_count": null,
      "outputs": []
    },
    {
      "cell_type": "markdown",
      "source": [
        "## Data preprocessing"
      ],
      "metadata": {
        "id": "Aef3tjCpRRWN"
      }
    },
    {
      "cell_type": "code",
      "source": [
        "from sklearn.preprocessing import FunctionTransformer\n",
        "# Since MONTH is a cyclical value, we cannot just encode it with ohe.\n",
        "# We will use sine/cosine transformation. \n",
        "def sin_transformer(period):\n",
        "\treturn FunctionTransformer(lambda x: np.sin(x / period * 2 * np.pi))\n",
        "\n",
        "def cos_transformer(period):\n",
        "\treturn FunctionTransformer(lambda x: np.cos(x / period * 2 * np.pi))\n",
        "\n",
        "df[\"MONTH_SIN\"] = sin_transformer(12).fit_transform(df[\"MONTH\"])\n",
        "df[\"MONTH_COS\"] = cos_transformer(12).fit_transform(df[\"MONTH\"])"
      ],
      "metadata": {
        "id": "osyLZwKjWvmu"
      },
      "execution_count": null,
      "outputs": []
    },
    {
      "cell_type": "code",
      "source": [
        "df.head()"
      ],
      "metadata": {
        "colab": {
          "base_uri": "https://localhost:8080/",
          "height": 204
        },
        "id": "M0K9XgvEhJlK",
        "outputId": "684836cc-cd55-45d9-c8d5-e9d315b99c70"
      },
      "execution_count": null,
      "outputs": [
        {
          "output_type": "execute_result",
          "data": {
            "text/plain": [
              "      YEAR  MONTH    CONTRAGENT ARTICLE_GROUP  SALES  STORE_SALES YEAR_MONTH  \\\n",
              "2689  2017      5      DOPS INC          WINE    0.0          1.0     201705   \n",
              "2913  2017     10       Default           REF  250.0          0.0     201710   \n",
              "2989  2017     10      DOPS INC          BEER    0.0         11.0     201710   \n",
              "3547  2017     10   LEGENDS LTD          BEER    0.0          2.0     201710   \n",
              "3806  2017     12  HEINEKEN USA          BEER    0.0        281.0     201712   \n",
              "\n",
              "         MONTH_SIN  MONTH_COS  \n",
              "2689  5.000000e-01  -0.866025  \n",
              "2913 -8.660254e-01   0.500000  \n",
              "2989 -8.660254e-01   0.500000  \n",
              "3547 -8.660254e-01   0.500000  \n",
              "3806 -2.449294e-16   1.000000  "
            ],
            "text/html": [
              "\n",
              "  <div id=\"df-a3fa5e3b-c5d3-46d1-a8ee-bf755a7fb346\">\n",
              "    <div class=\"colab-df-container\">\n",
              "      <div>\n",
              "<style scoped>\n",
              "    .dataframe tbody tr th:only-of-type {\n",
              "        vertical-align: middle;\n",
              "    }\n",
              "\n",
              "    .dataframe tbody tr th {\n",
              "        vertical-align: top;\n",
              "    }\n",
              "\n",
              "    .dataframe thead th {\n",
              "        text-align: right;\n",
              "    }\n",
              "</style>\n",
              "<table border=\"1\" class=\"dataframe\">\n",
              "  <thead>\n",
              "    <tr style=\"text-align: right;\">\n",
              "      <th></th>\n",
              "      <th>YEAR</th>\n",
              "      <th>MONTH</th>\n",
              "      <th>CONTRAGENT</th>\n",
              "      <th>ARTICLE_GROUP</th>\n",
              "      <th>SALES</th>\n",
              "      <th>STORE_SALES</th>\n",
              "      <th>YEAR_MONTH</th>\n",
              "      <th>MONTH_SIN</th>\n",
              "      <th>MONTH_COS</th>\n",
              "    </tr>\n",
              "  </thead>\n",
              "  <tbody>\n",
              "    <tr>\n",
              "      <th>2689</th>\n",
              "      <td>2017</td>\n",
              "      <td>5</td>\n",
              "      <td>DOPS INC</td>\n",
              "      <td>WINE</td>\n",
              "      <td>0.0</td>\n",
              "      <td>1.0</td>\n",
              "      <td>201705</td>\n",
              "      <td>5.000000e-01</td>\n",
              "      <td>-0.866025</td>\n",
              "    </tr>\n",
              "    <tr>\n",
              "      <th>2913</th>\n",
              "      <td>2017</td>\n",
              "      <td>10</td>\n",
              "      <td>Default</td>\n",
              "      <td>REF</td>\n",
              "      <td>250.0</td>\n",
              "      <td>0.0</td>\n",
              "      <td>201710</td>\n",
              "      <td>-8.660254e-01</td>\n",
              "      <td>0.500000</td>\n",
              "    </tr>\n",
              "    <tr>\n",
              "      <th>2989</th>\n",
              "      <td>2017</td>\n",
              "      <td>10</td>\n",
              "      <td>DOPS INC</td>\n",
              "      <td>BEER</td>\n",
              "      <td>0.0</td>\n",
              "      <td>11.0</td>\n",
              "      <td>201710</td>\n",
              "      <td>-8.660254e-01</td>\n",
              "      <td>0.500000</td>\n",
              "    </tr>\n",
              "    <tr>\n",
              "      <th>3547</th>\n",
              "      <td>2017</td>\n",
              "      <td>10</td>\n",
              "      <td>LEGENDS LTD</td>\n",
              "      <td>BEER</td>\n",
              "      <td>0.0</td>\n",
              "      <td>2.0</td>\n",
              "      <td>201710</td>\n",
              "      <td>-8.660254e-01</td>\n",
              "      <td>0.500000</td>\n",
              "    </tr>\n",
              "    <tr>\n",
              "      <th>3806</th>\n",
              "      <td>2017</td>\n",
              "      <td>12</td>\n",
              "      <td>HEINEKEN USA</td>\n",
              "      <td>BEER</td>\n",
              "      <td>0.0</td>\n",
              "      <td>281.0</td>\n",
              "      <td>201712</td>\n",
              "      <td>-2.449294e-16</td>\n",
              "      <td>1.000000</td>\n",
              "    </tr>\n",
              "  </tbody>\n",
              "</table>\n",
              "</div>\n",
              "      <button class=\"colab-df-convert\" onclick=\"convertToInteractive('df-a3fa5e3b-c5d3-46d1-a8ee-bf755a7fb346')\"\n",
              "              title=\"Convert this dataframe to an interactive table.\"\n",
              "              style=\"display:none;\">\n",
              "        \n",
              "  <svg xmlns=\"http://www.w3.org/2000/svg\" height=\"24px\"viewBox=\"0 0 24 24\"\n",
              "       width=\"24px\">\n",
              "    <path d=\"M0 0h24v24H0V0z\" fill=\"none\"/>\n",
              "    <path d=\"M18.56 5.44l.94 2.06.94-2.06 2.06-.94-2.06-.94-.94-2.06-.94 2.06-2.06.94zm-11 1L8.5 8.5l.94-2.06 2.06-.94-2.06-.94L8.5 2.5l-.94 2.06-2.06.94zm10 10l.94 2.06.94-2.06 2.06-.94-2.06-.94-.94-2.06-.94 2.06-2.06.94z\"/><path d=\"M17.41 7.96l-1.37-1.37c-.4-.4-.92-.59-1.43-.59-.52 0-1.04.2-1.43.59L10.3 9.45l-7.72 7.72c-.78.78-.78 2.05 0 2.83L4 21.41c.39.39.9.59 1.41.59.51 0 1.02-.2 1.41-.59l7.78-7.78 2.81-2.81c.8-.78.8-2.07 0-2.86zM5.41 20L4 18.59l7.72-7.72 1.47 1.35L5.41 20z\"/>\n",
              "  </svg>\n",
              "      </button>\n",
              "      \n",
              "  <style>\n",
              "    .colab-df-container {\n",
              "      display:flex;\n",
              "      flex-wrap:wrap;\n",
              "      gap: 12px;\n",
              "    }\n",
              "\n",
              "    .colab-df-convert {\n",
              "      background-color: #E8F0FE;\n",
              "      border: none;\n",
              "      border-radius: 50%;\n",
              "      cursor: pointer;\n",
              "      display: none;\n",
              "      fill: #1967D2;\n",
              "      height: 32px;\n",
              "      padding: 0 0 0 0;\n",
              "      width: 32px;\n",
              "    }\n",
              "\n",
              "    .colab-df-convert:hover {\n",
              "      background-color: #E2EBFA;\n",
              "      box-shadow: 0px 1px 2px rgba(60, 64, 67, 0.3), 0px 1px 3px 1px rgba(60, 64, 67, 0.15);\n",
              "      fill: #174EA6;\n",
              "    }\n",
              "\n",
              "    [theme=dark] .colab-df-convert {\n",
              "      background-color: #3B4455;\n",
              "      fill: #D2E3FC;\n",
              "    }\n",
              "\n",
              "    [theme=dark] .colab-df-convert:hover {\n",
              "      background-color: #434B5C;\n",
              "      box-shadow: 0px 1px 3px 1px rgba(0, 0, 0, 0.15);\n",
              "      filter: drop-shadow(0px 1px 2px rgba(0, 0, 0, 0.3));\n",
              "      fill: #FFFFFF;\n",
              "    }\n",
              "  </style>\n",
              "\n",
              "      <script>\n",
              "        const buttonEl =\n",
              "          document.querySelector('#df-a3fa5e3b-c5d3-46d1-a8ee-bf755a7fb346 button.colab-df-convert');\n",
              "        buttonEl.style.display =\n",
              "          google.colab.kernel.accessAllowed ? 'block' : 'none';\n",
              "\n",
              "        async function convertToInteractive(key) {\n",
              "          const element = document.querySelector('#df-a3fa5e3b-c5d3-46d1-a8ee-bf755a7fb346');\n",
              "          const dataTable =\n",
              "            await google.colab.kernel.invokeFunction('convertToInteractive',\n",
              "                                                     [key], {});\n",
              "          if (!dataTable) return;\n",
              "\n",
              "          const docLinkHtml = 'Like what you see? Visit the ' +\n",
              "            '<a target=\"_blank\" href=https://colab.research.google.com/notebooks/data_table.ipynb>data table notebook</a>'\n",
              "            + ' to learn more about interactive tables.';\n",
              "          element.innerHTML = '';\n",
              "          dataTable['output_type'] = 'display_data';\n",
              "          await google.colab.output.renderOutput(dataTable, element);\n",
              "          const docLink = document.createElement('div');\n",
              "          docLink.innerHTML = docLinkHtml;\n",
              "          element.appendChild(docLink);\n",
              "        }\n",
              "      </script>\n",
              "    </div>\n",
              "  </div>\n",
              "  "
            ]
          },
          "metadata": {},
          "execution_count": 93
        }
      ]
    },
    {
      "cell_type": "code",
      "source": [
        "# let us find last month of the period\n",
        "df[(df['YEAR']==2018)]['MONTH'].max()\n",
        "# So last month is February 2018"
      ],
      "metadata": {
        "colab": {
          "base_uri": "https://localhost:8080/"
        },
        "id": "Mug12wTsioYM",
        "outputId": "148706e1-5e05-4fb9-a97b-9c976c947cdb"
      },
      "execution_count": null,
      "outputs": [
        {
          "output_type": "execute_result",
          "data": {
            "text/plain": [
              "2"
            ]
          },
          "metadata": {},
          "execution_count": 94
        }
      ]
    },
    {
      "cell_type": "code",
      "source": [
        "from sklearn.model_selection import train_test_split\n",
        "categorical_features = ['CONTRAGENT', 'ARTICLE_GROUP']\n",
        "numerical_features = ['STORE_SALES', 'SALES']\n",
        "train_df = df.copy()\n",
        "# one hot encode features\n",
        "train_df = pd.get_dummies(train_df, columns = categorical_features)\n",
        "# ordinal feature (year)\n",
        "train_df['YEAR'] = train_df['YEAR'].replace([2017,2018],[0,1])\n",
        "# scaling sales by log\n",
        "# standard/minmax/robust scaling would not help and even confuse the model \n",
        "train_df['SALES'] = train_df['SALES'].apply(lambda x: np.log(x+1))\n",
        "train_df['STORE_SALES'] = train_df['STORE_SALES'].apply(lambda x: np.log(x+1))"
      ],
      "metadata": {
        "id": "wDoiohG5gJSL"
      },
      "execution_count": null,
      "outputs": []
    },
    {
      "cell_type": "code",
      "source": [
        "train_df.head()"
      ],
      "metadata": {
        "colab": {
          "base_uri": "https://localhost:8080/",
          "height": 416
        },
        "id": "FD7knSHHj44l",
        "outputId": "541ff44d-91fc-4543-95bf-0c2595693045"
      },
      "execution_count": null,
      "outputs": [
        {
          "output_type": "execute_result",
          "data": {
            "text/plain": [
              "      YEAR  MONTH     SALES  STORE_SALES YEAR_MONTH     MONTH_SIN  MONTH_COS  \\\n",
              "2689     0      5  0.000000     0.693147     201705  5.000000e-01  -0.866025   \n",
              "2913     0     10  5.525453     0.000000     201710 -8.660254e-01   0.500000   \n",
              "2989     0     10  0.000000     2.484907     201710 -8.660254e-01   0.500000   \n",
              "3547     0     10  0.000000     1.098612     201710 -8.660254e-01   0.500000   \n",
              "3806     0     12  0.000000     5.641907     201712 -2.449294e-16   1.000000   \n",
              "\n",
              "      CONTRAGENT_8 VINI INC  CONTRAGENT_A HARDY USA LTD  \\\n",
              "2689                      0                           0   \n",
              "2913                      0                           0   \n",
              "2989                      0                           0   \n",
              "3547                      0                           0   \n",
              "3806                      0                           0   \n",
              "\n",
              "      CONTRAGENT_A I G WINE & SPIRITS  ...  CONTRAGENT_YOUNG WON TRADING INC  \\\n",
              "2689                                0  ...                                 0   \n",
              "2913                                0  ...                                 0   \n",
              "2989                                0  ...                                 0   \n",
              "3547                                0  ...                                 0   \n",
              "3806                                0  ...                                 0   \n",
              "\n",
              "      CONTRAGENT_YUENGLING BREWERY  CONTRAGENT_Z WINE GALLERY IMPORTS LLC  \\\n",
              "2689                             0                                      0   \n",
              "2913                             0                                      0   \n",
              "2989                             0                                      0   \n",
              "3547                             0                                      0   \n",
              "3806                             0                                      0   \n",
              "\n",
              "      CONTRAGENT_ZURENA LLC  ARTICLE_GROUP_BEER  ARTICLE_GROUP_LIQUOR  \\\n",
              "2689                      0                   0                     0   \n",
              "2913                      0                   0                     0   \n",
              "2989                      0                   1                     0   \n",
              "3547                      0                   1                     0   \n",
              "3806                      0                   1                     0   \n",
              "\n",
              "      ARTICLE_GROUP_NON-ALCOHOL  ARTICLE_GROUP_REF  \\\n",
              "2689                          0                  0   \n",
              "2913                          0                  1   \n",
              "2989                          0                  0   \n",
              "3547                          0                  0   \n",
              "3806                          0                  0   \n",
              "\n",
              "      ARTICLE_GROUP_STR_SUPPLIES  ARTICLE_GROUP_WINE  \n",
              "2689                           0                   1  \n",
              "2913                           0                   0  \n",
              "2989                           0                   0  \n",
              "3547                           0                   0  \n",
              "3806                           0                   0  \n",
              "\n",
              "[5 rows x 342 columns]"
            ],
            "text/html": [
              "\n",
              "  <div id=\"df-11157b72-2ae4-4e80-ab05-47cdf7a2e4b1\">\n",
              "    <div class=\"colab-df-container\">\n",
              "      <div>\n",
              "<style scoped>\n",
              "    .dataframe tbody tr th:only-of-type {\n",
              "        vertical-align: middle;\n",
              "    }\n",
              "\n",
              "    .dataframe tbody tr th {\n",
              "        vertical-align: top;\n",
              "    }\n",
              "\n",
              "    .dataframe thead th {\n",
              "        text-align: right;\n",
              "    }\n",
              "</style>\n",
              "<table border=\"1\" class=\"dataframe\">\n",
              "  <thead>\n",
              "    <tr style=\"text-align: right;\">\n",
              "      <th></th>\n",
              "      <th>YEAR</th>\n",
              "      <th>MONTH</th>\n",
              "      <th>SALES</th>\n",
              "      <th>STORE_SALES</th>\n",
              "      <th>YEAR_MONTH</th>\n",
              "      <th>MONTH_SIN</th>\n",
              "      <th>MONTH_COS</th>\n",
              "      <th>CONTRAGENT_8 VINI INC</th>\n",
              "      <th>CONTRAGENT_A HARDY USA LTD</th>\n",
              "      <th>CONTRAGENT_A I G WINE &amp; SPIRITS</th>\n",
              "      <th>...</th>\n",
              "      <th>CONTRAGENT_YOUNG WON TRADING INC</th>\n",
              "      <th>CONTRAGENT_YUENGLING BREWERY</th>\n",
              "      <th>CONTRAGENT_Z WINE GALLERY IMPORTS LLC</th>\n",
              "      <th>CONTRAGENT_ZURENA LLC</th>\n",
              "      <th>ARTICLE_GROUP_BEER</th>\n",
              "      <th>ARTICLE_GROUP_LIQUOR</th>\n",
              "      <th>ARTICLE_GROUP_NON-ALCOHOL</th>\n",
              "      <th>ARTICLE_GROUP_REF</th>\n",
              "      <th>ARTICLE_GROUP_STR_SUPPLIES</th>\n",
              "      <th>ARTICLE_GROUP_WINE</th>\n",
              "    </tr>\n",
              "  </thead>\n",
              "  <tbody>\n",
              "    <tr>\n",
              "      <th>2689</th>\n",
              "      <td>0</td>\n",
              "      <td>5</td>\n",
              "      <td>0.000000</td>\n",
              "      <td>0.693147</td>\n",
              "      <td>201705</td>\n",
              "      <td>5.000000e-01</td>\n",
              "      <td>-0.866025</td>\n",
              "      <td>0</td>\n",
              "      <td>0</td>\n",
              "      <td>0</td>\n",
              "      <td>...</td>\n",
              "      <td>0</td>\n",
              "      <td>0</td>\n",
              "      <td>0</td>\n",
              "      <td>0</td>\n",
              "      <td>0</td>\n",
              "      <td>0</td>\n",
              "      <td>0</td>\n",
              "      <td>0</td>\n",
              "      <td>0</td>\n",
              "      <td>1</td>\n",
              "    </tr>\n",
              "    <tr>\n",
              "      <th>2913</th>\n",
              "      <td>0</td>\n",
              "      <td>10</td>\n",
              "      <td>5.525453</td>\n",
              "      <td>0.000000</td>\n",
              "      <td>201710</td>\n",
              "      <td>-8.660254e-01</td>\n",
              "      <td>0.500000</td>\n",
              "      <td>0</td>\n",
              "      <td>0</td>\n",
              "      <td>0</td>\n",
              "      <td>...</td>\n",
              "      <td>0</td>\n",
              "      <td>0</td>\n",
              "      <td>0</td>\n",
              "      <td>0</td>\n",
              "      <td>0</td>\n",
              "      <td>0</td>\n",
              "      <td>0</td>\n",
              "      <td>1</td>\n",
              "      <td>0</td>\n",
              "      <td>0</td>\n",
              "    </tr>\n",
              "    <tr>\n",
              "      <th>2989</th>\n",
              "      <td>0</td>\n",
              "      <td>10</td>\n",
              "      <td>0.000000</td>\n",
              "      <td>2.484907</td>\n",
              "      <td>201710</td>\n",
              "      <td>-8.660254e-01</td>\n",
              "      <td>0.500000</td>\n",
              "      <td>0</td>\n",
              "      <td>0</td>\n",
              "      <td>0</td>\n",
              "      <td>...</td>\n",
              "      <td>0</td>\n",
              "      <td>0</td>\n",
              "      <td>0</td>\n",
              "      <td>0</td>\n",
              "      <td>1</td>\n",
              "      <td>0</td>\n",
              "      <td>0</td>\n",
              "      <td>0</td>\n",
              "      <td>0</td>\n",
              "      <td>0</td>\n",
              "    </tr>\n",
              "    <tr>\n",
              "      <th>3547</th>\n",
              "      <td>0</td>\n",
              "      <td>10</td>\n",
              "      <td>0.000000</td>\n",
              "      <td>1.098612</td>\n",
              "      <td>201710</td>\n",
              "      <td>-8.660254e-01</td>\n",
              "      <td>0.500000</td>\n",
              "      <td>0</td>\n",
              "      <td>0</td>\n",
              "      <td>0</td>\n",
              "      <td>...</td>\n",
              "      <td>0</td>\n",
              "      <td>0</td>\n",
              "      <td>0</td>\n",
              "      <td>0</td>\n",
              "      <td>1</td>\n",
              "      <td>0</td>\n",
              "      <td>0</td>\n",
              "      <td>0</td>\n",
              "      <td>0</td>\n",
              "      <td>0</td>\n",
              "    </tr>\n",
              "    <tr>\n",
              "      <th>3806</th>\n",
              "      <td>0</td>\n",
              "      <td>12</td>\n",
              "      <td>0.000000</td>\n",
              "      <td>5.641907</td>\n",
              "      <td>201712</td>\n",
              "      <td>-2.449294e-16</td>\n",
              "      <td>1.000000</td>\n",
              "      <td>0</td>\n",
              "      <td>0</td>\n",
              "      <td>0</td>\n",
              "      <td>...</td>\n",
              "      <td>0</td>\n",
              "      <td>0</td>\n",
              "      <td>0</td>\n",
              "      <td>0</td>\n",
              "      <td>1</td>\n",
              "      <td>0</td>\n",
              "      <td>0</td>\n",
              "      <td>0</td>\n",
              "      <td>0</td>\n",
              "      <td>0</td>\n",
              "    </tr>\n",
              "  </tbody>\n",
              "</table>\n",
              "<p>5 rows × 342 columns</p>\n",
              "</div>\n",
              "      <button class=\"colab-df-convert\" onclick=\"convertToInteractive('df-11157b72-2ae4-4e80-ab05-47cdf7a2e4b1')\"\n",
              "              title=\"Convert this dataframe to an interactive table.\"\n",
              "              style=\"display:none;\">\n",
              "        \n",
              "  <svg xmlns=\"http://www.w3.org/2000/svg\" height=\"24px\"viewBox=\"0 0 24 24\"\n",
              "       width=\"24px\">\n",
              "    <path d=\"M0 0h24v24H0V0z\" fill=\"none\"/>\n",
              "    <path d=\"M18.56 5.44l.94 2.06.94-2.06 2.06-.94-2.06-.94-.94-2.06-.94 2.06-2.06.94zm-11 1L8.5 8.5l.94-2.06 2.06-.94-2.06-.94L8.5 2.5l-.94 2.06-2.06.94zm10 10l.94 2.06.94-2.06 2.06-.94-2.06-.94-.94-2.06-.94 2.06-2.06.94z\"/><path d=\"M17.41 7.96l-1.37-1.37c-.4-.4-.92-.59-1.43-.59-.52 0-1.04.2-1.43.59L10.3 9.45l-7.72 7.72c-.78.78-.78 2.05 0 2.83L4 21.41c.39.39.9.59 1.41.59.51 0 1.02-.2 1.41-.59l7.78-7.78 2.81-2.81c.8-.78.8-2.07 0-2.86zM5.41 20L4 18.59l7.72-7.72 1.47 1.35L5.41 20z\"/>\n",
              "  </svg>\n",
              "      </button>\n",
              "      \n",
              "  <style>\n",
              "    .colab-df-container {\n",
              "      display:flex;\n",
              "      flex-wrap:wrap;\n",
              "      gap: 12px;\n",
              "    }\n",
              "\n",
              "    .colab-df-convert {\n",
              "      background-color: #E8F0FE;\n",
              "      border: none;\n",
              "      border-radius: 50%;\n",
              "      cursor: pointer;\n",
              "      display: none;\n",
              "      fill: #1967D2;\n",
              "      height: 32px;\n",
              "      padding: 0 0 0 0;\n",
              "      width: 32px;\n",
              "    }\n",
              "\n",
              "    .colab-df-convert:hover {\n",
              "      background-color: #E2EBFA;\n",
              "      box-shadow: 0px 1px 2px rgba(60, 64, 67, 0.3), 0px 1px 3px 1px rgba(60, 64, 67, 0.15);\n",
              "      fill: #174EA6;\n",
              "    }\n",
              "\n",
              "    [theme=dark] .colab-df-convert {\n",
              "      background-color: #3B4455;\n",
              "      fill: #D2E3FC;\n",
              "    }\n",
              "\n",
              "    [theme=dark] .colab-df-convert:hover {\n",
              "      background-color: #434B5C;\n",
              "      box-shadow: 0px 1px 3px 1px rgba(0, 0, 0, 0.15);\n",
              "      filter: drop-shadow(0px 1px 2px rgba(0, 0, 0, 0.3));\n",
              "      fill: #FFFFFF;\n",
              "    }\n",
              "  </style>\n",
              "\n",
              "      <script>\n",
              "        const buttonEl =\n",
              "          document.querySelector('#df-11157b72-2ae4-4e80-ab05-47cdf7a2e4b1 button.colab-df-convert');\n",
              "        buttonEl.style.display =\n",
              "          google.colab.kernel.accessAllowed ? 'block' : 'none';\n",
              "\n",
              "        async function convertToInteractive(key) {\n",
              "          const element = document.querySelector('#df-11157b72-2ae4-4e80-ab05-47cdf7a2e4b1');\n",
              "          const dataTable =\n",
              "            await google.colab.kernel.invokeFunction('convertToInteractive',\n",
              "                                                     [key], {});\n",
              "          if (!dataTable) return;\n",
              "\n",
              "          const docLinkHtml = 'Like what you see? Visit the ' +\n",
              "            '<a target=\"_blank\" href=https://colab.research.google.com/notebooks/data_table.ipynb>data table notebook</a>'\n",
              "            + ' to learn more about interactive tables.';\n",
              "          element.innerHTML = '';\n",
              "          dataTable['output_type'] = 'display_data';\n",
              "          await google.colab.output.renderOutput(dataTable, element);\n",
              "          const docLink = document.createElement('div');\n",
              "          docLink.innerHTML = docLinkHtml;\n",
              "          element.appendChild(docLink);\n",
              "        }\n",
              "      </script>\n",
              "    </div>\n",
              "  </div>\n",
              "  "
            ]
          },
          "metadata": {},
          "execution_count": 99
        }
      ]
    },
    {
      "cell_type": "code",
      "source": [
        "# splitting datasets \n",
        "test_df = train_df[(train_df['MONTH']==2) & (train_df['YEAR']==1)]\n",
        "train_df = train_df[(train_df['MONTH']!=2) | (train_df['YEAR']!=1)]"
      ],
      "metadata": {
        "id": "RA0_Ok3_iYrL"
      },
      "execution_count": null,
      "outputs": []
    },
    {
      "cell_type": "code",
      "source": [
        "print(train_df.shape, test_df.shape)"
      ],
      "metadata": {
        "colab": {
          "base_uri": "https://localhost:8080/"
        },
        "id": "FIg836cjkLRm",
        "outputId": "e9e29bdf-c36d-4890-e3e8-e34e0e39c8de"
      },
      "execution_count": null,
      "outputs": [
        {
          "output_type": "stream",
          "name": "stdout",
          "text": [
            "(106546, 342) (12651, 342)\n"
          ]
        }
      ]
    },
    {
      "cell_type": "code",
      "source": [
        "# removing extra columns that we have already transformed\n",
        "test_df.drop(columns=['MONTH','YEAR_MONTH'], inplace=True)\n",
        "train_df.drop(columns=['MONTH','YEAR_MONTH'], inplace=True)"
      ],
      "metadata": {
        "id": "0IdrvcDvk42k"
      },
      "execution_count": null,
      "outputs": []
    },
    {
      "cell_type": "code",
      "source": [
        "X_train = train_df.drop(columns=['SALES'])\n",
        "y_train = train_df['SALES']\n",
        "\n",
        "X_test = test_df.drop(columns=['SALES'])\n",
        "y_test = test_df['SALES']"
      ],
      "metadata": {
        "id": "9TihVwSKlWpQ"
      },
      "execution_count": null,
      "outputs": []
    },
    {
      "cell_type": "markdown",
      "source": [
        "## Training"
      ],
      "metadata": {
        "id": "873E17NuRaRO"
      }
    },
    {
      "cell_type": "markdown",
      "source": [
        "### Linear Regression (metric - 99.9)"
      ],
      "metadata": {
        "id": "pr5C9eP6Rdc_"
      }
    },
    {
      "cell_type": "code",
      "source": [
        "from sklearn.linear_model import LinearRegression\n",
        "from sklearn.preprocessing import PolynomialFeatures\n",
        "def compute_pol_feature(X_train, x_test, degree):\n",
        "    # name all numerical columns\n",
        "    columns = ['STORE_SALES','MONTH_SIN','MONTH_COS']\n",
        "\n",
        "    # separate train set into numerical and non_numerical features\n",
        "    X_train_numerical = X_train[columns]\n",
        "    X_train_non_numerical = X_train.drop(columns=columns)\n",
        "    \n",
        "    # for numerical features apply PolynomialFeatures\n",
        "    poly = PolynomialFeatures(degree = degree, interaction_only=False, include_bias=False)\n",
        "    X_train_polynom = pd.DataFrame(poly.fit_transform(X_train_numerical))\n",
        "    # concatenate polynomial numerical features with one-hot encoded ones\n",
        "    # get resulting training set\n",
        "    X_train_new = pd.DataFrame(np.hstack([X_train_polynom,X_train_non_numerical]))\n",
        "    \n",
        "    # separate test set into numerical and non_numerical features\n",
        "    x_test_numerical = x_test[columns]\n",
        "    x_test_non_numerical = x_test.drop(columns=columns)\n",
        "    \n",
        "    x_test_polynom = pd.DataFrame(poly.fit_transform(x_test_numerical))\n",
        "    x_test_new = pd.DataFrame(np.hstack([x_test_polynom,x_test_non_numerical]))\n",
        "    \n",
        "    # return resulting train and test set\n",
        "    return X_train_new, x_test_new\n",
        "\n",
        "def compute_lr(X_train, x_test, y_train, degree):\n",
        "    # Apply polynomial features to training/test sets\n",
        "    X_train_new, x_test_new = compute_pol_feature(X_train, x_test, degree)\n",
        "    # Make a regression model\n",
        "    lr = LinearRegression()\n",
        "    lr.fit(X_train_new,y_train)\n",
        "    # predict y based on test set\n",
        "    y_pred = lr.predict(x_test_new)\n",
        "    return y_pred"
      ],
      "metadata": {
        "id": "JyA2H4LAp-wN"
      },
      "execution_count": null,
      "outputs": []
    },
    {
      "cell_type": "code",
      "source": [
        "# let us look into trend of degree/metric\n",
        "metrics_lr = []\n",
        "for i in range(1,8):\n",
        "  metrics_lr.append(metric(y_test, compute_lr(X_train, X_test, y_train,i)))\n",
        "  print(f\"Metric for polynomial of degree {i} is: {metrics_lr[i-1]}\")"
      ],
      "metadata": {
        "id": "xItiNwAnqVzw",
        "colab": {
          "base_uri": "https://localhost:8080/"
        },
        "outputId": "257f20ce-6e22-4e54-d1cb-0ffcdba7f04a"
      },
      "execution_count": null,
      "outputs": [
        {
          "output_type": "stream",
          "name": "stdout",
          "text": [
            "Metric for polynomial of degree 1 is: 99.99999729046755\n",
            "Metric for polynomial of degree 2 is: 110.98563008717055\n",
            "Metric for polynomial of degree 3 is: 101.74564183170325\n",
            "Metric for polynomial of degree 4 is: 99.9999998160295\n",
            "Metric for polynomial of degree 5 is: 100.00000145115105\n",
            "Metric for polynomial of degree 6 is: 116.04411693000662\n",
            "Metric for polynomial of degree 7 is: 99.99884883684965\n"
          ]
        }
      ]
    },
    {
      "cell_type": "code",
      "source": [
        "# best metric is 99, which is not a good estimate + the model is fluctuating\n",
        "plt.figure(figsize=(5, 5))\n",
        "plt.xlabel('Degree')\n",
        "plt.ylabel('Metric')\n",
        "display(plt.plot(metrics_lr))"
      ],
      "metadata": {
        "colab": {
          "base_uri": "https://localhost:8080/",
          "height": 351
        },
        "id": "syCIcZQYM-ar",
        "outputId": "c223d40f-8000-4442-f8a0-4c06f0c6fb2d"
      },
      "execution_count": null,
      "outputs": [
        {
          "output_type": "display_data",
          "data": {
            "text/plain": [
              "[<matplotlib.lines.Line2D at 0x7f3d5fc93250>]"
            ]
          },
          "metadata": {}
        },
        {
          "output_type": "display_data",
          "data": {
            "text/plain": [
              "<Figure size 360x360 with 1 Axes>"
            ],
            "image/png": "[encoded data removed]"
          },
          "metadata": {
            "needs_background": "light"
          }
        }
      ]
    },
    {
      "cell_type": "markdown",
      "source": [
        "### HuberRegressor (metric - 44.87)"
      ],
      "metadata": {
        "id": "IOxX2wIIRkzR"
      }
    },
    {
      "cell_type": "code",
      "source": [
        "from sklearn.linear_model import HuberRegressor\n",
        "# define the model\n",
        "model = HuberRegressor()\n",
        "model.fit(X_train, y_train)\n",
        "y_pred = model.predict(X_test)"
      ],
      "metadata": {
        "id": "KKDO0cb6NSdA"
      },
      "execution_count": null,
      "outputs": []
    },
    {
      "cell_type": "code",
      "source": [
        "print(f\"Metric for HuberRegressor is: {metric(y_test, y_pred)}\")"
      ],
      "metadata": {
        "colab": {
          "base_uri": "https://localhost:8080/"
        },
        "id": "xpNtLm2qOAH7",
        "outputId": "6462d9bc-8fe2-4039-91fd-19d1b594165a"
      },
      "execution_count": null,
      "outputs": [
        {
          "output_type": "stream",
          "name": "stdout",
          "text": [
            "Metric for HuberRegressor is: 44.874099343379456\n"
          ]
        }
      ]
    },
    {
      "cell_type": "markdown",
      "source": [
        "### Decision Tree (metric - 38.33)"
      ],
      "metadata": {
        "id": "GtB5CqFZRq0e"
      }
    },
    {
      "cell_type": "code",
      "source": [
        "from sklearn.tree import DecisionTreeRegressor \n",
        "  \n",
        "# create a regressor object\n",
        "regressor = DecisionTreeRegressor(random_state = 42) \n",
        "  \n",
        "# fit the regressor with X and Y data\n",
        "regressor.fit(X_train, y_train)\n",
        "y_pred = regressor.predict(X_test)\n",
        "print(f\"Metric for DecisionTree is: {metric(y_test, y_pred)}\")"
      ],
      "metadata": {
        "colab": {
          "base_uri": "https://localhost:8080/"
        },
        "id": "TExgHN4gu-l1",
        "outputId": "585beeca-2ec4-4b8e-bdf9-fe7d2080effb"
      },
      "execution_count": null,
      "outputs": [
        {
          "output_type": "stream",
          "name": "stdout",
          "text": [
            "Metric for DecisionTree is: 38.330733271472106\n"
          ]
        }
      ]
    },
    {
      "cell_type": "markdown",
      "source": [
        "### Decision Tree GridSearch"
      ],
      "metadata": {
        "id": "odBeFYDaSAFV"
      }
    },
    {
      "cell_type": "code",
      "source": [
        "parameters={\"splitter\":[\"best\",\"random\"],\n",
        "            \"max_depth\" : [x for x in range(10,31,5)],\n",
        "           \"min_samples_leaf\":[3,4,5,6,7],\n",
        "           #\"min_weight_fraction_leaf\":[0.1,0.2,0.3,0.4,0.5,0.6,0.7,0.8,0.9],\n",
        "           \"max_features\":[\"auto\",\"log2\",\"sqrt\"],\n",
        "           \"max_leaf_nodes\":[None,30,50,70,80,90] }"
      ],
      "metadata": {
        "id": "FsUsi4MMwN3B"
      },
      "execution_count": null,
      "outputs": []
    },
    {
      "cell_type": "code",
      "source": [
        "from sklearn.model_selection import GridSearchCV"
      ],
      "metadata": {
        "id": "Dr4ontVfwRud"
      },
      "execution_count": null,
      "outputs": []
    },
    {
      "cell_type": "code",
      "source": [
        "reg_decision_model=DecisionTreeRegressor()\n",
        "tuning_model=GridSearchCV(reg_decision_model,param_grid=parameters,scoring='neg_mean_squared_error',cv=3,verbose=3)"
      ],
      "metadata": {
        "id": "hxOah6TowUKq"
      },
      "execution_count": null,
      "outputs": []
    },
    {
      "cell_type": "code",
      "source": [
        "tuning_model.fit(X_train,y_train)"
      ],
      "metadata": {
        "id": "aGFdcbZNwapl"
      },
      "execution_count": null,
      "outputs": []
    },
    {
      "cell_type": "code",
      "source": [
        "# I didn't manage to run it on bigger and more complex trees (which would definitely help)\n",
        "best_params = tuning_model.best_params_\n",
        "print(f'Best_params: {best_params}')\n",
        "\n",
        "tree_reg = DecisionTreeRegressor(**best_params)\n",
        "tree_reg.fit(X_train, y_train)\n",
        "y_pred = tree_reg.predict(X_test)\n",
        "metric(y_test, y_pred)"
      ],
      "metadata": {
        "id": "b29oveXuUP0q",
        "colab": {
          "base_uri": "https://localhost:8080/"
        },
        "outputId": "5a330e0b-fb5e-458a-f065-6baf0feae908"
      },
      "execution_count": 146,
      "outputs": [
        {
          "output_type": "stream",
          "name": "stdout",
          "text": [
            "Best_params: {'max_depth': 15, 'max_features': 'auto', 'max_leaf_nodes': 50, 'min_samples_leaf': 7, 'splitter': 'random'}\n"
          ]
        },
        {
          "output_type": "execute_result",
          "data": {
            "text/plain": [
              "43.10122450074778"
            ]
          },
          "metadata": {},
          "execution_count": 146
        }
      ]
    }
  ]
}