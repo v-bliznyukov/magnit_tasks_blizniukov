{
 "cells": [
  {
   "cell_type": "code",
   "execution_count": 1,
   "id": "23f32bf1",
   "metadata": {},
   "outputs": [],
   "source": [
    "import pandas as pd"
   ]
  },
  {
   "cell_type": "code",
   "execution_count": 2,
   "id": "959cc18d",
   "metadata": {},
   "outputs": [
    {
     "data": {
      "text/html": [
       "<div>\n",
       "<style scoped>\n",
       "    .dataframe tbody tr th:only-of-type {\n",
       "        vertical-align: middle;\n",
       "    }\n",
       "\n",
       "    .dataframe tbody tr th {\n",
       "        vertical-align: top;\n",
       "    }\n",
       "\n",
       "    .dataframe thead th {\n",
       "        text-align: right;\n",
       "    }\n",
       "</style>\n",
       "<table border=\"1\" class=\"dataframe\">\n",
       "  <thead>\n",
       "    <tr style=\"text-align: right;\">\n",
       "      <th></th>\n",
       "      <th>ФИО</th>\n",
       "      <th>Расписание</th>\n",
       "      <th>Дата начала расписания</th>\n",
       "      <th>Дата окончания расписания</th>\n",
       "    </tr>\n",
       "  </thead>\n",
       "  <tbody>\n",
       "    <tr>\n",
       "      <th>0</th>\n",
       "      <td>Поставщик 1</td>\n",
       "      <td>дддвсвнн</td>\n",
       "      <td>01.01.2019 0:00</td>\n",
       "      <td>10.01.2019 0:00</td>\n",
       "    </tr>\n",
       "    <tr>\n",
       "      <th>1</th>\n",
       "      <td>Поставщик 1</td>\n",
       "      <td>ннвннв</td>\n",
       "      <td>11.01.2019 0:00</td>\n",
       "      <td>15.01.2019 0:00</td>\n",
       "    </tr>\n",
       "    <tr>\n",
       "      <th>2</th>\n",
       "      <td>Поставщик 1</td>\n",
       "      <td>св</td>\n",
       "      <td>16.01.2019 0:00</td>\n",
       "      <td>20.01.2019 0:00</td>\n",
       "    </tr>\n",
       "    <tr>\n",
       "      <th>3</th>\n",
       "      <td>Поставщик 2</td>\n",
       "      <td>свсвсв</td>\n",
       "      <td>01.01.2019 0:00</td>\n",
       "      <td>07.01.2019 0:00</td>\n",
       "    </tr>\n",
       "    <tr>\n",
       "      <th>4</th>\n",
       "      <td>Поставщик 2</td>\n",
       "      <td>днвсв</td>\n",
       "      <td>08.01.2019 0:00</td>\n",
       "      <td>14.01.2019 0:00</td>\n",
       "    </tr>\n",
       "    <tr>\n",
       "      <th>5</th>\n",
       "      <td>Поставщик 2</td>\n",
       "      <td>ннддвсв</td>\n",
       "      <td>15.01.2019 0:00</td>\n",
       "      <td>31.12.9999 0:00</td>\n",
       "    </tr>\n",
       "    <tr>\n",
       "      <th>6</th>\n",
       "      <td>Поставщик 3</td>\n",
       "      <td>нвнвнв</td>\n",
       "      <td>01.01.2019 0:00</td>\n",
       "      <td>01.02.2019 0:00</td>\n",
       "    </tr>\n",
       "    <tr>\n",
       "      <th>7</th>\n",
       "      <td>Поставщик 3</td>\n",
       "      <td>двдвдвдв</td>\n",
       "      <td>02.02.2019 0:00</td>\n",
       "      <td>31.12.9999 0:00</td>\n",
       "    </tr>\n",
       "  </tbody>\n",
       "</table>\n",
       "</div>"
      ],
      "text/plain": [
       "           ФИО Расписание Дата начала расписания Дата окончания расписания\n",
       "0  Поставщик 1   дддвсвнн        01.01.2019 0:00           10.01.2019 0:00\n",
       "1  Поставщик 1     ннвннв        11.01.2019 0:00           15.01.2019 0:00\n",
       "2  Поставщик 1         св        16.01.2019 0:00           20.01.2019 0:00\n",
       "3  Поставщик 2     свсвсв        01.01.2019 0:00           07.01.2019 0:00\n",
       "4  Поставщик 2      днвсв        08.01.2019 0:00           14.01.2019 0:00\n",
       "5  Поставщик 2    ннддвсв        15.01.2019 0:00           31.12.9999 0:00\n",
       "6  Поставщик 3     нвнвнв        01.01.2019 0:00           01.02.2019 0:00\n",
       "7  Поставщик 3   двдвдвдв        02.02.2019 0:00           31.12.9999 0:00"
      ]
     },
     "execution_count": 2,
     "metadata": {},
     "output_type": "execute_result"
    }
   ],
   "source": [
    "df = pd.read_csv(r'shedulers.csv', encoding='cp1251', sep=';')\n",
    "df.head(10)"
   ]
  },
  {
   "cell_type": "code",
   "execution_count": 3,
   "id": "b8a6e20f",
   "metadata": {},
   "outputs": [
    {
     "data": {
      "text/plain": [
       "(8, 4)"
      ]
     },
     "execution_count": 3,
     "metadata": {},
     "output_type": "execute_result"
    }
   ],
   "source": [
    "# оказывается, это весь файл\n",
    "df.shape"
   ]
  },
  {
   "cell_type": "code",
   "execution_count": 4,
   "id": "a1950475",
   "metadata": {},
   "outputs": [
    {
     "data": {
      "text/plain": [
       "8"
      ]
     },
     "execution_count": 4,
     "metadata": {},
     "output_type": "execute_result"
    }
   ],
   "source": [
    "# смотрим максимальную длину, какой минимум должен быть для переменной в таблице\n",
    "df['Расписание'].apply(lambda x: len(x)).max()"
   ]
  },
  {
   "cell_type": "markdown",
   "id": "383e7a56",
   "metadata": {},
   "source": [
    "В таблице находятся значения 9999 для года, \n",
    "Сначала я думал их убрать, но в принципе это можно расценивать как \"неограниченность в расисании\"\n",
    "Например, с 15.01.2019 0:00 Поставщик 2 работает по расписанию \"ннддвсв\""
   ]
  },
  {
   "cell_type": "code",
   "execution_count": 5,
   "id": "6a88d482",
   "metadata": {},
   "outputs": [
    {
     "data": {
      "text/plain": [
       "0    01.01.2019 0:00\n",
       "1    11.01.2019 0:00\n",
       "2    16.01.2019 0:00\n",
       "3    01.01.2019 0:00\n",
       "4    08.01.2019 0:00\n",
       "5    15.01.2019 0:00\n",
       "6    01.01.2019 0:00\n",
       "7    02.02.2019 0:00\n",
       "Name: Дата начала расписания, dtype: object"
      ]
     },
     "execution_count": 5,
     "metadata": {},
     "output_type": "execute_result"
    }
   ],
   "source": [
    "# Данные в расписании указаны в неверном для MySQL формате\n",
    "# Нужно поменять местами месяц и день, кроме того время не несет информации - его можно убрать\n",
    "df['Дата начала расписания'] "
   ]
  },
  {
   "cell_type": "markdown",
   "id": "cb4b9631",
   "metadata": {},
   "source": [
    "## Работа с SQL "
   ]
  },
  {
   "cell_type": "code",
   "execution_count": 6,
   "id": "59bab9dd",
   "metadata": {},
   "outputs": [
    {
     "name": "stdout",
     "output_type": "stream",
     "text": [
      "Requirement already satisfied: mysql-connector-python in /Library/Frameworks/Python.framework/Versions/3.9/lib/python3.9/site-packages (8.0.30)\n",
      "Requirement already satisfied: protobuf<=3.20.1,>=3.11.0 in /Library/Frameworks/Python.framework/Versions/3.9/lib/python3.9/site-packages (from mysql-connector-python) (3.19.1)\n",
      "\u001b[33mWARNING: You are using pip version 20.2.3; however, version 22.2.2 is available.\n",
      "You should consider upgrading via the '/Library/Frameworks/Python.framework/Versions/3.9/bin/python3.9 -m pip install --upgrade pip' command.\u001b[0m\n"
     ]
    }
   ],
   "source": [
    "!pip3 install mysql-connector-python"
   ]
  },
  {
   "cell_type": "code",
   "execution_count": 7,
   "id": "298ec7cc",
   "metadata": {},
   "outputs": [],
   "source": [
    "import mysql.connector as mysql\n",
    "from mysql.connector import Error"
   ]
  },
  {
   "cell_type": "code",
   "execution_count": 9,
   "id": "d2adb4d6",
   "metadata": {},
   "outputs": [],
   "source": [
    "# Создаем подключение к локальному серверу и создаем базу данных\n",
    "conn = mysql.connect(host='localhost', user='root', password='password')\n",
    "cursor = conn.cursor()\n",
    "#cursor.execute(\"CREATE DATABASE work\")"
   ]
  },
  {
   "cell_type": "code",
   "execution_count": 10,
   "id": "a497b3c6",
   "metadata": {},
   "outputs": [],
   "source": [
    "# Кроме того, можно создать функцию для подключения к базе данных на сервере, с обработкой ошибок\n",
    "def create_connection(host_name, user_name, user_password, db_name):\n",
    "    connection = None\n",
    "    try:\n",
    "        connection = mysql.connect(\n",
    "            host=host_name,\n",
    "            user=user_name,\n",
    "            passwd=user_password,\n",
    "            database=db_name\n",
    "        )\n",
    "        print(\"Connection to MySQL DB successful\")\n",
    "    except Error as e:\n",
    "        print(f\"The error '{e}' occurred\")\n",
    "\n",
    "    return connection"
   ]
  },
  {
   "cell_type": "code",
   "execution_count": 11,
   "id": "c5b81b8f",
   "metadata": {},
   "outputs": [
    {
     "name": "stdout",
     "output_type": "stream",
     "text": [
      "Connection to MySQL DB successful\n"
     ]
    }
   ],
   "source": [
    "#датасет называется work\n",
    "conn = create_connection('localhost','root','password', 'work')"
   ]
  },
  {
   "cell_type": "code",
   "execution_count": 12,
   "id": "1e15f3f9",
   "metadata": {},
   "outputs": [],
   "source": [
    "# Функция для исполнения запросов\n",
    "def execute_query(connection, query):\n",
    "     cursor = connection.cursor()\n",
    "     try:\n",
    "         cursor.execute(query)\n",
    "         connection.commit()\n",
    "         print(\"Query executed successfully\")\n",
    "     except Error as e:\n",
    "         print(f\"The error '{e}' occurred\")"
   ]
  },
  {
   "cell_type": "code",
   "execution_count": 16,
   "id": "7abcf2be",
   "metadata": {},
   "outputs": [],
   "source": [
    "# Создание таблицы (Ключ по ID_NAME, DATE_BEGIN)\n",
    "# NAME и ID_NAME, по идее, несут один смысл и находятся в функциональной зависимости друг от друга\n",
    "# Можно сделать отдельную таблицу [ID_NAME,NAME], чтобы этого избежать. Но по заданию, как я понял, оба параметра должны присутсвовать.\n",
    "\n",
    "create_contractor_table = \"\"\"\n",
    "CREATE TABLE IF NOT EXISTS T_CONTRACTOR_SHERULER (\n",
    "  ID_NAME INT NOT NULL, \n",
    "  NAME VARCHAR(20) NOT NULL, \n",
    "  SCHEDULE VARCHAR(10) NOT NULL, \n",
    "  DATE_BEGIN DATE NOT NULL, \n",
    "  DATE_END DATE NOT NULL, \n",
    "  CHECK (DATE_BEGIN <= DATE_END),\n",
    "  PRIMARY KEY (NAME, DATE_BEGIN)\n",
    ")\n",
    "\"\"\""
   ]
  },
  {
   "cell_type": "code",
   "execution_count": 14,
   "id": "86220204",
   "metadata": {},
   "outputs": [
    {
     "name": "stdout",
     "output_type": "stream",
     "text": [
      "Query executed successfully\n"
     ]
    }
   ],
   "source": [
    "# создаем таблицу\n",
    "execute_query(conn, create_contractor_table)"
   ]
  },
  {
   "cell_type": "code",
   "execution_count": null,
   "id": "de765a54",
   "metadata": {},
   "outputs": [],
   "source": [
    "# заполение таблицы\n",
    "cursor = conn.cursor()\n",
    "for row in df.itertuples():\n",
    "    cursor.execute('''\n",
    "                INSERT INTO T_CONTRACTOR_SHERULER (ID_NAME, NAME, SCHEDULE, DATE_BEGIN,DATE_END)\n",
    "                VALUES (%s,%s,%s,STR_TO_DATE(%s, '%d-%m-%Y') ,STR_TO_DATE(%s,'%d-%m-%Y'))\n",
    "                ''',\n",
    "                (row[1][-1],row[1],row[2],row[3][:10].replace('.','-'),row[4][:10].replace('.','-'))\n",
    "                )\n",
    "\n",
    "conn.commit()"
   ]
  },
  {
   "cell_type": "code",
   "execution_count": 130,
   "id": "efb03089",
   "metadata": {},
   "outputs": [],
   "source": [
    "# создание таблицы для рабочих смен, делаем проверку по дате\n",
    "# FK на NAME нет смысла добавлять, потому что это не PK\n",
    "# [NAME, DATE_BEGIN] - тоже не подходит для FK \n",
    "create_workday_table = \"\"\"\n",
    "CREATE TABLE IF NOT EXISTS T_CONTRACTOR_WORK_DAY (\n",
    "  ID INT PRIMARY KEY AUTO_INCREMENT, \n",
    "  NAME VARCHAR(20) NOT NULL,\n",
    "  DATE_BEGIN DATETIME NOT NULL, \n",
    "  DATE_END DATETIME NOT NULL, \n",
    "  CHECK (DATE_BEGIN <= DATE_END)\n",
    ")\n",
    "\"\"\""
   ]
  },
  {
   "cell_type": "code",
   "execution_count": 131,
   "id": "096e484d",
   "metadata": {},
   "outputs": [
    {
     "name": "stdout",
     "output_type": "stream",
     "text": [
      "Query executed successfully\n"
     ]
    }
   ],
   "source": [
    "# создаем таблицу\n",
    "execute_query(conn, create_contractor_table)"
   ]
  }
 ],
 "metadata": {
  "kernelspec": {
   "display_name": "Python 3 (ipykernel)",
   "language": "python",
   "name": "python3"
  },
  "language_info": {
   "codemirror_mode": {
    "name": "ipython",
    "version": 3
   },
   "file_extension": ".py",
   "mimetype": "text/x-python",
   "name": "python",
   "nbconvert_exporter": "python",
   "pygments_lexer": "ipython3",
   "version": "3.9.0"
  }
 },
 "nbformat": 4,
 "nbformat_minor": 5
}
